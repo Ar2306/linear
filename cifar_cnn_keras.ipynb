{
 "cells": [
  {
   "cell_type": "markdown",
   "metadata": {},
   "source": [
    "## load libraries"
   ]
  },
  {
   "cell_type": "code",
   "execution_count": 54,
   "metadata": {},
   "outputs": [],
   "source": [
    "from keras.models import Sequential\n",
    "from keras.layers import Conv2D,Flatten,MaxPool2D,Dense\n",
    "from keras.datasets import cifar10\n",
    "from keras.utils import to_categorical"
   ]
  },
  {
   "cell_type": "markdown",
   "metadata": {},
   "source": [
    "## load data\n"
   ]
  },
  {
   "cell_type": "code",
   "execution_count": 55,
   "metadata": {},
   "outputs": [],
   "source": [
    "(X_train, y_train), (X_test, y_test) = cifar10.load_data()"
   ]
  },
  {
   "cell_type": "markdown",
   "metadata": {},
   "source": [
    "## preprocess the data"
   ]
  },
  {
   "cell_type": "code",
   "execution_count": 56,
   "metadata": {},
   "outputs": [
    {
     "name": "stdout",
     "output_type": "stream",
     "text": [
      "(50000, 32, 32, 3) (50000, 10)\n"
     ]
    }
   ],
   "source": [
    "y_train = to_categorical(y_train)\n",
    "y_test = to_categorical(y_test)\n",
    "print(X_train.shape, y_train.shape)"
   ]
  },
  {
   "cell_type": "markdown",
   "metadata": {},
   "source": [
    "## Built Architecture"
   ]
  },
  {
   "cell_type": "code",
   "execution_count": 57,
   "metadata": {},
   "outputs": [],
   "source": [
    "model= Sequential()\n",
    "model.add(Conv2D(6,(3,3),activation='relu'))\n",
    "model.add(MaxPool2D((2,2)))\n",
    "model.add(Flatten(input_shape=(32, 32, 3)))\n",
    "model.add(Dense(128, activation='relu'))\n",
    "model.add(Dense(10, activation='softmax'))"
   ]
  },
  {
   "cell_type": "markdown",
   "metadata": {},
   "source": [
    "## compile"
   ]
  },
  {
   "cell_type": "code",
   "execution_count": 58,
   "metadata": {},
   "outputs": [],
   "source": [
    "model.compile(optimizer='adam', loss='categorical_crossentropy', metrics=['accuracy'])"
   ]
  },
  {
   "cell_type": "markdown",
   "metadata": {},
   "source": [
    "## train\n"
   ]
  },
  {
   "cell_type": "code",
   "execution_count": 62,
   "metadata": {},
   "outputs": [
    {
     "name": "stdout",
     "output_type": "stream",
     "text": [
      "Epoch 1/10\n",
      "\u001b[1m782/782\u001b[0m \u001b[32m━━━━━━━━━━━━━━━━━━━━\u001b[0m\u001b[37m\u001b[0m \u001b[1m5s\u001b[0m 6ms/step - accuracy: 0.8142 - loss: 0.5235\n",
      "Epoch 2/10\n",
      "\u001b[1m782/782\u001b[0m \u001b[32m━━━━━━━━━━━━━━━━━━━━\u001b[0m\u001b[37m\u001b[0m \u001b[1m5s\u001b[0m 6ms/step - accuracy: 0.8188 - loss: 0.5166\n",
      "Epoch 3/10\n",
      "\u001b[1m782/782\u001b[0m \u001b[32m━━━━━━━━━━━━━━━━━━━━\u001b[0m\u001b[37m\u001b[0m \u001b[1m5s\u001b[0m 6ms/step - accuracy: 0.8157 - loss: 0.5050\n",
      "Epoch 4/10\n",
      "\u001b[1m782/782\u001b[0m \u001b[32m━━━━━━━━━━━━━━━━━━━━\u001b[0m\u001b[37m\u001b[0m \u001b[1m5s\u001b[0m 6ms/step - accuracy: 0.8173 - loss: 0.5144\n",
      "Epoch 5/10\n",
      "\u001b[1m782/782\u001b[0m \u001b[32m━━━━━━━━━━━━━━━━━━━━\u001b[0m\u001b[37m\u001b[0m \u001b[1m5s\u001b[0m 6ms/step - accuracy: 0.8141 - loss: 0.5121\n",
      "Epoch 6/10\n",
      "\u001b[1m782/782\u001b[0m \u001b[32m━━━━━━━━━━━━━━━━━━━━\u001b[0m\u001b[37m\u001b[0m \u001b[1m5s\u001b[0m 6ms/step - accuracy: 0.8135 - loss: 0.5164\n",
      "Epoch 7/10\n",
      "\u001b[1m782/782\u001b[0m \u001b[32m━━━━━━━━━━━━━━━━━━━━\u001b[0m\u001b[37m\u001b[0m \u001b[1m5s\u001b[0m 6ms/step - accuracy: 0.8153 - loss: 0.5122\n",
      "Epoch 8/10\n",
      "\u001b[1m782/782\u001b[0m \u001b[32m━━━━━━━━━━━━━━━━━━━━\u001b[0m\u001b[37m\u001b[0m \u001b[1m5s\u001b[0m 7ms/step - accuracy: 0.8191 - loss: 0.5075\n",
      "Epoch 9/10\n",
      "\u001b[1m782/782\u001b[0m \u001b[32m━━━━━━━━━━━━━━━━━━━━\u001b[0m\u001b[37m\u001b[0m \u001b[1m5s\u001b[0m 6ms/step - accuracy: 0.8179 - loss: 0.5076\n",
      "Epoch 10/10\n",
      "\u001b[1m782/782\u001b[0m \u001b[32m━━━━━━━━━━━━━━━━━━━━\u001b[0m\u001b[37m\u001b[0m \u001b[1m5s\u001b[0m 6ms/step - accuracy: 0.8153 - loss: 0.5150\n"
     ]
    },
    {
     "data": {
      "text/plain": [
       "<keras.src.callbacks.history.History at 0x11b87cf10>"
      ]
     },
     "execution_count": 62,
     "metadata": {},
     "output_type": "execute_result"
    }
   ],
   "source": [
    "model.fit(X_train, y_train, epochs=10, batch_size=64)"
   ]
  },
  {
   "cell_type": "markdown",
   "metadata": {},
   "source": [
    "## Experiment 2"
   ]
  },
  {
   "cell_type": "markdown",
   "metadata": {},
   "source": [
    "Analysis : in the previous experiment, it is observed that accuracy is imporved continously for every epoch.\n",
    "\n",
    "so Continue the training by incresaing the no of epoch from 10 to 30"
   ]
  },
  {
   "cell_type": "markdown",
   "metadata": {},
   "source": [
    "Hyperparameters : \n",
    "\n",
    "                epochs: 30\n",
    "                "
   ]
  },
  {
   "cell_type": "code",
   "execution_count": 33,
   "metadata": {},
   "outputs": [
    {
     "name": "stderr",
     "output_type": "stream",
     "text": [
      "/Library/Frameworks/Python.framework/Versions/3.11/lib/python3.11/site-packages/keras/src/layers/reshaping/flatten.py:37: UserWarning: Do not pass an `input_shape`/`input_dim` argument to a layer. When using Sequential models, prefer using an `Input(shape)` object as the first layer in the model instead.\n",
      "  super().__init__(**kwargs)\n"
     ]
    },
    {
     "ename": "NameError",
     "evalue": "name 'X_train_train' is not defined",
     "output_type": "error",
     "traceback": [
      "\u001b[31m---------------------------------------------------------------------------\u001b[39m",
      "\u001b[31mNameError\u001b[39m                                 Traceback (most recent call last)",
      "\u001b[36mCell\u001b[39m\u001b[36m \u001b[39m\u001b[32mIn[33]\u001b[39m\u001b[32m, line 8\u001b[39m\n\u001b[32m      6\u001b[39m model.add(Dense(\u001b[32m10\u001b[39m,activation=\u001b[33m'\u001b[39m\u001b[33msoftmax\u001b[39m\u001b[33m'\u001b[39m))\n\u001b[32m      7\u001b[39m model.compile(optimizer=\u001b[33m'\u001b[39m\u001b[33madam\u001b[39m\u001b[33m'\u001b[39m, loss=\u001b[33m'\u001b[39m\u001b[33mcategorical_crossentropy\u001b[39m\u001b[33m'\u001b[39m,metrics=[\u001b[33m'\u001b[39m\u001b[33maccuracy\u001b[39m\u001b[33m'\u001b[39m])\n\u001b[32m----> \u001b[39m\u001b[32m8\u001b[39m model.fit(\u001b[43mX_train_train\u001b[49m, y_train, epochs=\u001b[32m30\u001b[39m, batch_size=\u001b[32m64\u001b[39m)\n",
      "\u001b[31mNameError\u001b[39m: name 'X_train_train' is not defined"
     ]
    }
   ],
   "source": [
    "model= Sequential()\n",
    "model.add(Conv2D(6,(3,3),activation='relu'))\n",
    "model.add(MaxPool2D())\n",
    "model.add(Flatten(input_shape=(32,32,3)))\n",
    "model.add(Dense(128,activation='relu'))\n",
    "model.add(Dense(10,activation='softmax'))\n",
    "model.compile(optimizer='adam', loss='categorical_crossentropy',metrics=['accuracy'])\n",
    "model.fit(X_train_train, y_train, epochs=30, batch_size=64)\n"
   ]
  },
  {
   "cell_type": "markdown",
   "metadata": {},
   "source": [
    "## Experiment 3"
   ]
  },
  {
   "cell_type": "markdown",
   "metadata": {},
   "source": []
  },
  {
   "cell_type": "code",
   "execution_count": 59,
   "metadata": {},
   "outputs": [
    {
     "name": "stdout",
     "output_type": "stream",
     "text": [
      "Epoch 1/50\n",
      "\u001b[1m226/782\u001b[0m \u001b[32m━━━━━\u001b[0m\u001b[37m━━━━━━━━━━━━━━━\u001b[0m \u001b[1m2s\u001b[0m 5ms/step - accuracy: 0.1260 - loss: 32.1776"
     ]
    },
    {
     "ename": "KeyboardInterrupt",
     "evalue": "",
     "output_type": "error",
     "traceback": [
      "\u001b[31m---------------------------------------------------------------------------\u001b[39m",
      "\u001b[31mKeyboardInterrupt\u001b[39m                         Traceback (most recent call last)",
      "\u001b[36mCell\u001b[39m\u001b[36m \u001b[39m\u001b[32mIn[59]\u001b[39m\u001b[32m, line 11\u001b[39m\n\u001b[32m      7\u001b[39m model.add(Dense(\u001b[32m10\u001b[39m, activation=\u001b[33m'\u001b[39m\u001b[33msoftmax\u001b[39m\u001b[33m'\u001b[39m))\n\u001b[32m      9\u001b[39m model.compile(optimizer=\u001b[33m'\u001b[39m\u001b[33madam\u001b[39m\u001b[33m'\u001b[39m, loss=\u001b[33m'\u001b[39m\u001b[33mcategorical_crossentropy\u001b[39m\u001b[33m'\u001b[39m, metrics=[\u001b[33m'\u001b[39m\u001b[33maccuracy\u001b[39m\u001b[33m'\u001b[39m])\n\u001b[32m---> \u001b[39m\u001b[32m11\u001b[39m \u001b[43mmodel\u001b[49m\u001b[43m.\u001b[49m\u001b[43mfit\u001b[49m\u001b[43m(\u001b[49m\u001b[43mX_train\u001b[49m\u001b[43m,\u001b[49m\u001b[43m \u001b[49m\u001b[43my_train\u001b[49m\u001b[43m,\u001b[49m\u001b[43m \u001b[49m\u001b[43mepochs\u001b[49m\u001b[43m=\u001b[49m\u001b[32;43m50\u001b[39;49m\u001b[43m,\u001b[49m\u001b[43m \u001b[49m\u001b[43mbatch_size\u001b[49m\u001b[43m=\u001b[49m\u001b[32;43m64\u001b[39;49m\u001b[43m)\u001b[49m\n",
      "\u001b[36mFile \u001b[39m\u001b[32m/Library/Frameworks/Python.framework/Versions/3.11/lib/python3.11/site-packages/keras/src/utils/traceback_utils.py:117\u001b[39m, in \u001b[36mfilter_traceback.<locals>.error_handler\u001b[39m\u001b[34m(*args, **kwargs)\u001b[39m\n\u001b[32m    115\u001b[39m filtered_tb = \u001b[38;5;28;01mNone\u001b[39;00m\n\u001b[32m    116\u001b[39m \u001b[38;5;28;01mtry\u001b[39;00m:\n\u001b[32m--> \u001b[39m\u001b[32m117\u001b[39m     \u001b[38;5;28;01mreturn\u001b[39;00m \u001b[43mfn\u001b[49m\u001b[43m(\u001b[49m\u001b[43m*\u001b[49m\u001b[43margs\u001b[49m\u001b[43m,\u001b[49m\u001b[43m \u001b[49m\u001b[43m*\u001b[49m\u001b[43m*\u001b[49m\u001b[43mkwargs\u001b[49m\u001b[43m)\u001b[49m\n\u001b[32m    118\u001b[39m \u001b[38;5;28;01mexcept\u001b[39;00m \u001b[38;5;167;01mException\u001b[39;00m \u001b[38;5;28;01mas\u001b[39;00m e:\n\u001b[32m    119\u001b[39m     filtered_tb = _process_traceback_frames(e.__traceback__)\n",
      "\u001b[36mFile \u001b[39m\u001b[32m/Library/Frameworks/Python.framework/Versions/3.11/lib/python3.11/site-packages/keras/src/backend/tensorflow/trainer.py:377\u001b[39m, in \u001b[36mTensorFlowTrainer.fit\u001b[39m\u001b[34m(self, x, y, batch_size, epochs, verbose, callbacks, validation_split, validation_data, shuffle, class_weight, sample_weight, initial_epoch, steps_per_epoch, validation_steps, validation_batch_size, validation_freq)\u001b[39m\n\u001b[32m    375\u001b[39m \u001b[38;5;28;01mfor\u001b[39;00m step, iterator \u001b[38;5;129;01min\u001b[39;00m epoch_iterator:\n\u001b[32m    376\u001b[39m     callbacks.on_train_batch_begin(step)\n\u001b[32m--> \u001b[39m\u001b[32m377\u001b[39m     logs = \u001b[38;5;28;43mself\u001b[39;49m\u001b[43m.\u001b[49m\u001b[43mtrain_function\u001b[49m\u001b[43m(\u001b[49m\u001b[43miterator\u001b[49m\u001b[43m)\u001b[49m\n\u001b[32m    378\u001b[39m     callbacks.on_train_batch_end(step, logs)\n\u001b[32m    379\u001b[39m     \u001b[38;5;28;01mif\u001b[39;00m \u001b[38;5;28mself\u001b[39m.stop_training:\n",
      "\u001b[36mFile \u001b[39m\u001b[32m/Library/Frameworks/Python.framework/Versions/3.11/lib/python3.11/site-packages/keras/src/backend/tensorflow/trainer.py:220\u001b[39m, in \u001b[36mTensorFlowTrainer._make_function.<locals>.function\u001b[39m\u001b[34m(iterator)\u001b[39m\n\u001b[32m    216\u001b[39m \u001b[38;5;28;01mdef\u001b[39;00m\u001b[38;5;250m \u001b[39m\u001b[34mfunction\u001b[39m(iterator):\n\u001b[32m    217\u001b[39m     \u001b[38;5;28;01mif\u001b[39;00m \u001b[38;5;28misinstance\u001b[39m(\n\u001b[32m    218\u001b[39m         iterator, (tf.data.Iterator, tf.distribute.DistributedIterator)\n\u001b[32m    219\u001b[39m     ):\n\u001b[32m--> \u001b[39m\u001b[32m220\u001b[39m         opt_outputs = \u001b[43mmulti_step_on_iterator\u001b[49m\u001b[43m(\u001b[49m\u001b[43miterator\u001b[49m\u001b[43m)\u001b[49m\n\u001b[32m    221\u001b[39m         \u001b[38;5;28;01mif\u001b[39;00m \u001b[38;5;129;01mnot\u001b[39;00m opt_outputs.has_value():\n\u001b[32m    222\u001b[39m             \u001b[38;5;28;01mraise\u001b[39;00m \u001b[38;5;167;01mStopIteration\u001b[39;00m\n",
      "\u001b[36mFile \u001b[39m\u001b[32m/Library/Frameworks/Python.framework/Versions/3.11/lib/python3.11/site-packages/tensorflow/python/util/traceback_utils.py:150\u001b[39m, in \u001b[36mfilter_traceback.<locals>.error_handler\u001b[39m\u001b[34m(*args, **kwargs)\u001b[39m\n\u001b[32m    148\u001b[39m filtered_tb = \u001b[38;5;28;01mNone\u001b[39;00m\n\u001b[32m    149\u001b[39m \u001b[38;5;28;01mtry\u001b[39;00m:\n\u001b[32m--> \u001b[39m\u001b[32m150\u001b[39m   \u001b[38;5;28;01mreturn\u001b[39;00m \u001b[43mfn\u001b[49m\u001b[43m(\u001b[49m\u001b[43m*\u001b[49m\u001b[43margs\u001b[49m\u001b[43m,\u001b[49m\u001b[43m \u001b[49m\u001b[43m*\u001b[49m\u001b[43m*\u001b[49m\u001b[43mkwargs\u001b[49m\u001b[43m)\u001b[49m\n\u001b[32m    151\u001b[39m \u001b[38;5;28;01mexcept\u001b[39;00m \u001b[38;5;167;01mException\u001b[39;00m \u001b[38;5;28;01mas\u001b[39;00m e:\n\u001b[32m    152\u001b[39m   filtered_tb = _process_traceback_frames(e.__traceback__)\n",
      "\u001b[36mFile \u001b[39m\u001b[32m/Library/Frameworks/Python.framework/Versions/3.11/lib/python3.11/site-packages/tensorflow/python/eager/polymorphic_function/polymorphic_function.py:833\u001b[39m, in \u001b[36mFunction.__call__\u001b[39m\u001b[34m(self, *args, **kwds)\u001b[39m\n\u001b[32m    830\u001b[39m compiler = \u001b[33m\"\u001b[39m\u001b[33mxla\u001b[39m\u001b[33m\"\u001b[39m \u001b[38;5;28;01mif\u001b[39;00m \u001b[38;5;28mself\u001b[39m._jit_compile \u001b[38;5;28;01melse\u001b[39;00m \u001b[33m\"\u001b[39m\u001b[33mnonXla\u001b[39m\u001b[33m\"\u001b[39m\n\u001b[32m    832\u001b[39m \u001b[38;5;28;01mwith\u001b[39;00m OptionalXlaContext(\u001b[38;5;28mself\u001b[39m._jit_compile):\n\u001b[32m--> \u001b[39m\u001b[32m833\u001b[39m   result = \u001b[38;5;28;43mself\u001b[39;49m\u001b[43m.\u001b[49m\u001b[43m_call\u001b[49m\u001b[43m(\u001b[49m\u001b[43m*\u001b[49m\u001b[43margs\u001b[49m\u001b[43m,\u001b[49m\u001b[43m \u001b[49m\u001b[43m*\u001b[49m\u001b[43m*\u001b[49m\u001b[43mkwds\u001b[49m\u001b[43m)\u001b[49m\n\u001b[32m    835\u001b[39m new_tracing_count = \u001b[38;5;28mself\u001b[39m.experimental_get_tracing_count()\n\u001b[32m    836\u001b[39m without_tracing = (tracing_count == new_tracing_count)\n",
      "\u001b[36mFile \u001b[39m\u001b[32m/Library/Frameworks/Python.framework/Versions/3.11/lib/python3.11/site-packages/tensorflow/python/eager/polymorphic_function/polymorphic_function.py:878\u001b[39m, in \u001b[36mFunction._call\u001b[39m\u001b[34m(self, *args, **kwds)\u001b[39m\n\u001b[32m    875\u001b[39m \u001b[38;5;28mself\u001b[39m._lock.release()\n\u001b[32m    876\u001b[39m \u001b[38;5;66;03m# In this case we have not created variables on the first call. So we can\u001b[39;00m\n\u001b[32m    877\u001b[39m \u001b[38;5;66;03m# run the first trace but we should fail if variables are created.\u001b[39;00m\n\u001b[32m--> \u001b[39m\u001b[32m878\u001b[39m results = \u001b[43mtracing_compilation\u001b[49m\u001b[43m.\u001b[49m\u001b[43mcall_function\u001b[49m\u001b[43m(\u001b[49m\n\u001b[32m    879\u001b[39m \u001b[43m    \u001b[49m\u001b[43margs\u001b[49m\u001b[43m,\u001b[49m\u001b[43m \u001b[49m\u001b[43mkwds\u001b[49m\u001b[43m,\u001b[49m\u001b[43m \u001b[49m\u001b[38;5;28;43mself\u001b[39;49m\u001b[43m.\u001b[49m\u001b[43m_variable_creation_config\u001b[49m\n\u001b[32m    880\u001b[39m \u001b[43m\u001b[49m\u001b[43m)\u001b[49m\n\u001b[32m    881\u001b[39m \u001b[38;5;28;01mif\u001b[39;00m \u001b[38;5;28mself\u001b[39m._created_variables:\n\u001b[32m    882\u001b[39m   \u001b[38;5;28;01mraise\u001b[39;00m \u001b[38;5;167;01mValueError\u001b[39;00m(\u001b[33m\"\u001b[39m\u001b[33mCreating variables on a non-first call to a function\u001b[39m\u001b[33m\"\u001b[39m\n\u001b[32m    883\u001b[39m                    \u001b[33m\"\u001b[39m\u001b[33m decorated with tf.function.\u001b[39m\u001b[33m\"\u001b[39m)\n",
      "\u001b[36mFile \u001b[39m\u001b[32m/Library/Frameworks/Python.framework/Versions/3.11/lib/python3.11/site-packages/tensorflow/python/eager/polymorphic_function/tracing_compilation.py:139\u001b[39m, in \u001b[36mcall_function\u001b[39m\u001b[34m(args, kwargs, tracing_options)\u001b[39m\n\u001b[32m    137\u001b[39m bound_args = function.function_type.bind(*args, **kwargs)\n\u001b[32m    138\u001b[39m flat_inputs = function.function_type.unpack_inputs(bound_args)\n\u001b[32m--> \u001b[39m\u001b[32m139\u001b[39m \u001b[38;5;28;01mreturn\u001b[39;00m \u001b[43mfunction\u001b[49m\u001b[43m.\u001b[49m\u001b[43m_call_flat\u001b[49m\u001b[43m(\u001b[49m\u001b[43m  \u001b[49m\u001b[38;5;66;43;03m# pylint: disable=protected-access\u001b[39;49;00m\n\u001b[32m    140\u001b[39m \u001b[43m    \u001b[49m\u001b[43mflat_inputs\u001b[49m\u001b[43m,\u001b[49m\u001b[43m \u001b[49m\u001b[43mcaptured_inputs\u001b[49m\u001b[43m=\u001b[49m\u001b[43mfunction\u001b[49m\u001b[43m.\u001b[49m\u001b[43mcaptured_inputs\u001b[49m\n\u001b[32m    141\u001b[39m \u001b[43m\u001b[49m\u001b[43m)\u001b[49m\n",
      "\u001b[36mFile \u001b[39m\u001b[32m/Library/Frameworks/Python.framework/Versions/3.11/lib/python3.11/site-packages/tensorflow/python/eager/polymorphic_function/concrete_function.py:1322\u001b[39m, in \u001b[36mConcreteFunction._call_flat\u001b[39m\u001b[34m(self, tensor_inputs, captured_inputs)\u001b[39m\n\u001b[32m   1318\u001b[39m possible_gradient_type = gradients_util.PossibleTapeGradientTypes(args)\n\u001b[32m   1319\u001b[39m \u001b[38;5;28;01mif\u001b[39;00m (possible_gradient_type == gradients_util.POSSIBLE_GRADIENT_TYPES_NONE\n\u001b[32m   1320\u001b[39m     \u001b[38;5;129;01mand\u001b[39;00m executing_eagerly):\n\u001b[32m   1321\u001b[39m   \u001b[38;5;66;03m# No tape is watching; skip to running the function.\u001b[39;00m\n\u001b[32m-> \u001b[39m\u001b[32m1322\u001b[39m   \u001b[38;5;28;01mreturn\u001b[39;00m \u001b[38;5;28;43mself\u001b[39;49m\u001b[43m.\u001b[49m\u001b[43m_inference_function\u001b[49m\u001b[43m.\u001b[49m\u001b[43mcall_preflattened\u001b[49m\u001b[43m(\u001b[49m\u001b[43margs\u001b[49m\u001b[43m)\u001b[49m\n\u001b[32m   1323\u001b[39m forward_backward = \u001b[38;5;28mself\u001b[39m._select_forward_and_backward_functions(\n\u001b[32m   1324\u001b[39m     args,\n\u001b[32m   1325\u001b[39m     possible_gradient_type,\n\u001b[32m   1326\u001b[39m     executing_eagerly)\n\u001b[32m   1327\u001b[39m forward_function, args_with_tangents = forward_backward.forward()\n",
      "\u001b[36mFile \u001b[39m\u001b[32m/Library/Frameworks/Python.framework/Versions/3.11/lib/python3.11/site-packages/tensorflow/python/eager/polymorphic_function/atomic_function.py:216\u001b[39m, in \u001b[36mAtomicFunction.call_preflattened\u001b[39m\u001b[34m(self, args)\u001b[39m\n\u001b[32m    214\u001b[39m \u001b[38;5;28;01mdef\u001b[39;00m\u001b[38;5;250m \u001b[39m\u001b[34mcall_preflattened\u001b[39m(\u001b[38;5;28mself\u001b[39m, args: Sequence[core.Tensor]) -> Any:\n\u001b[32m    215\u001b[39m \u001b[38;5;250m  \u001b[39m\u001b[33;03m\"\"\"Calls with flattened tensor inputs and returns the structured output.\"\"\"\u001b[39;00m\n\u001b[32m--> \u001b[39m\u001b[32m216\u001b[39m   flat_outputs = \u001b[38;5;28;43mself\u001b[39;49m\u001b[43m.\u001b[49m\u001b[43mcall_flat\u001b[49m\u001b[43m(\u001b[49m\u001b[43m*\u001b[49m\u001b[43margs\u001b[49m\u001b[43m)\u001b[49m\n\u001b[32m    217\u001b[39m   \u001b[38;5;28;01mreturn\u001b[39;00m \u001b[38;5;28mself\u001b[39m.function_type.pack_output(flat_outputs)\n",
      "\u001b[36mFile \u001b[39m\u001b[32m/Library/Frameworks/Python.framework/Versions/3.11/lib/python3.11/site-packages/tensorflow/python/eager/polymorphic_function/atomic_function.py:251\u001b[39m, in \u001b[36mAtomicFunction.call_flat\u001b[39m\u001b[34m(self, *args)\u001b[39m\n\u001b[32m    249\u001b[39m \u001b[38;5;28;01mwith\u001b[39;00m record.stop_recording():\n\u001b[32m    250\u001b[39m   \u001b[38;5;28;01mif\u001b[39;00m \u001b[38;5;28mself\u001b[39m._bound_context.executing_eagerly():\n\u001b[32m--> \u001b[39m\u001b[32m251\u001b[39m     outputs = \u001b[38;5;28;43mself\u001b[39;49m\u001b[43m.\u001b[49m\u001b[43m_bound_context\u001b[49m\u001b[43m.\u001b[49m\u001b[43mcall_function\u001b[49m\u001b[43m(\u001b[49m\n\u001b[32m    252\u001b[39m \u001b[43m        \u001b[49m\u001b[38;5;28;43mself\u001b[39;49m\u001b[43m.\u001b[49m\u001b[43mname\u001b[49m\u001b[43m,\u001b[49m\n\u001b[32m    253\u001b[39m \u001b[43m        \u001b[49m\u001b[38;5;28;43mlist\u001b[39;49m\u001b[43m(\u001b[49m\u001b[43margs\u001b[49m\u001b[43m)\u001b[49m\u001b[43m,\u001b[49m\n\u001b[32m    254\u001b[39m \u001b[43m        \u001b[49m\u001b[38;5;28;43mlen\u001b[39;49m\u001b[43m(\u001b[49m\u001b[38;5;28;43mself\u001b[39;49m\u001b[43m.\u001b[49m\u001b[43mfunction_type\u001b[49m\u001b[43m.\u001b[49m\u001b[43mflat_outputs\u001b[49m\u001b[43m)\u001b[49m\u001b[43m,\u001b[49m\n\u001b[32m    255\u001b[39m \u001b[43m    \u001b[49m\u001b[43m)\u001b[49m\n\u001b[32m    256\u001b[39m   \u001b[38;5;28;01melse\u001b[39;00m:\n\u001b[32m    257\u001b[39m     outputs = make_call_op_in_graph(\n\u001b[32m    258\u001b[39m         \u001b[38;5;28mself\u001b[39m,\n\u001b[32m    259\u001b[39m         \u001b[38;5;28mlist\u001b[39m(args),\n\u001b[32m    260\u001b[39m         \u001b[38;5;28mself\u001b[39m._bound_context.function_call_options.as_attrs(),\n\u001b[32m    261\u001b[39m     )\n",
      "\u001b[36mFile \u001b[39m\u001b[32m/Library/Frameworks/Python.framework/Versions/3.11/lib/python3.11/site-packages/tensorflow/python/eager/context.py:1688\u001b[39m, in \u001b[36mContext.call_function\u001b[39m\u001b[34m(self, name, tensor_inputs, num_outputs)\u001b[39m\n\u001b[32m   1686\u001b[39m cancellation_context = cancellation.context()\n\u001b[32m   1687\u001b[39m \u001b[38;5;28;01mif\u001b[39;00m cancellation_context \u001b[38;5;129;01mis\u001b[39;00m \u001b[38;5;28;01mNone\u001b[39;00m:\n\u001b[32m-> \u001b[39m\u001b[32m1688\u001b[39m   outputs = \u001b[43mexecute\u001b[49m\u001b[43m.\u001b[49m\u001b[43mexecute\u001b[49m\u001b[43m(\u001b[49m\n\u001b[32m   1689\u001b[39m \u001b[43m      \u001b[49m\u001b[43mname\u001b[49m\u001b[43m.\u001b[49m\u001b[43mdecode\u001b[49m\u001b[43m(\u001b[49m\u001b[33;43m\"\u001b[39;49m\u001b[33;43mutf-8\u001b[39;49m\u001b[33;43m\"\u001b[39;49m\u001b[43m)\u001b[49m\u001b[43m,\u001b[49m\n\u001b[32m   1690\u001b[39m \u001b[43m      \u001b[49m\u001b[43mnum_outputs\u001b[49m\u001b[43m=\u001b[49m\u001b[43mnum_outputs\u001b[49m\u001b[43m,\u001b[49m\n\u001b[32m   1691\u001b[39m \u001b[43m      \u001b[49m\u001b[43minputs\u001b[49m\u001b[43m=\u001b[49m\u001b[43mtensor_inputs\u001b[49m\u001b[43m,\u001b[49m\n\u001b[32m   1692\u001b[39m \u001b[43m      \u001b[49m\u001b[43mattrs\u001b[49m\u001b[43m=\u001b[49m\u001b[43mattrs\u001b[49m\u001b[43m,\u001b[49m\n\u001b[32m   1693\u001b[39m \u001b[43m      \u001b[49m\u001b[43mctx\u001b[49m\u001b[43m=\u001b[49m\u001b[38;5;28;43mself\u001b[39;49m\u001b[43m,\u001b[49m\n\u001b[32m   1694\u001b[39m \u001b[43m  \u001b[49m\u001b[43m)\u001b[49m\n\u001b[32m   1695\u001b[39m \u001b[38;5;28;01melse\u001b[39;00m:\n\u001b[32m   1696\u001b[39m   outputs = execute.execute_with_cancellation(\n\u001b[32m   1697\u001b[39m       name.decode(\u001b[33m\"\u001b[39m\u001b[33mutf-8\u001b[39m\u001b[33m\"\u001b[39m),\n\u001b[32m   1698\u001b[39m       num_outputs=num_outputs,\n\u001b[32m   (...)\u001b[39m\u001b[32m   1702\u001b[39m       cancellation_manager=cancellation_context,\n\u001b[32m   1703\u001b[39m   )\n",
      "\u001b[36mFile \u001b[39m\u001b[32m/Library/Frameworks/Python.framework/Versions/3.11/lib/python3.11/site-packages/tensorflow/python/eager/execute.py:53\u001b[39m, in \u001b[36mquick_execute\u001b[39m\u001b[34m(op_name, num_outputs, inputs, attrs, ctx, name)\u001b[39m\n\u001b[32m     51\u001b[39m \u001b[38;5;28;01mtry\u001b[39;00m:\n\u001b[32m     52\u001b[39m   ctx.ensure_initialized()\n\u001b[32m---> \u001b[39m\u001b[32m53\u001b[39m   tensors = \u001b[43mpywrap_tfe\u001b[49m\u001b[43m.\u001b[49m\u001b[43mTFE_Py_Execute\u001b[49m\u001b[43m(\u001b[49m\u001b[43mctx\u001b[49m\u001b[43m.\u001b[49m\u001b[43m_handle\u001b[49m\u001b[43m,\u001b[49m\u001b[43m \u001b[49m\u001b[43mdevice_name\u001b[49m\u001b[43m,\u001b[49m\u001b[43m \u001b[49m\u001b[43mop_name\u001b[49m\u001b[43m,\u001b[49m\n\u001b[32m     54\u001b[39m \u001b[43m                                      \u001b[49m\u001b[43minputs\u001b[49m\u001b[43m,\u001b[49m\u001b[43m \u001b[49m\u001b[43mattrs\u001b[49m\u001b[43m,\u001b[49m\u001b[43m \u001b[49m\u001b[43mnum_outputs\u001b[49m\u001b[43m)\u001b[49m\n\u001b[32m     55\u001b[39m \u001b[38;5;28;01mexcept\u001b[39;00m core._NotOkStatusException \u001b[38;5;28;01mas\u001b[39;00m e:\n\u001b[32m     56\u001b[39m   \u001b[38;5;28;01mif\u001b[39;00m name \u001b[38;5;129;01mis\u001b[39;00m \u001b[38;5;129;01mnot\u001b[39;00m \u001b[38;5;28;01mNone\u001b[39;00m:\n",
      "\u001b[31mKeyboardInterrupt\u001b[39m: "
     ]
    }
   ],
   "source": [
    "model= Sequential()\n",
    "model.add(Conv2D(6,(3,3),activation='relu'))\n",
    "model.add(MaxPool2D((2,2)))\n",
    "model.add(Flatten(input_shape=(32, 32, 3)))\n",
    "model.add(Dense(128, activation='relu'))\n",
    "model.add(Dense(64, activation='relu'))\n",
    "model.add(Dense(10, activation='softmax'))\n",
    "\n",
    "model.compile(optimizer='adam', loss='categorical_crossentropy', metrics=['accuracy'])\n",
    "\n",
    "model.fit(X_train, y_train, epochs=50, batch_size=64)"
   ]
  },
  {
   "cell_type": "code",
   "execution_count": 60,
   "metadata": {},
   "outputs": [
    {
     "name": "stdout",
     "output_type": "stream",
     "text": [
      "Epoch 1/100\n",
      "\u001b[1m782/782\u001b[0m \u001b[32m━━━━━━━━━━━━━━━━━━━━\u001b[0m\u001b[37m\u001b[0m \u001b[1m6s\u001b[0m 7ms/step - accuracy: 0.1565 - loss: 4.0052 - val_accuracy: 0.3109 - val_loss: 1.8161\n",
      "Epoch 2/100\n",
      "\u001b[1m782/782\u001b[0m \u001b[32m━━━━━━━━━━━━━━━━━━━━\u001b[0m\u001b[37m\u001b[0m \u001b[1m5s\u001b[0m 7ms/step - accuracy: 0.3336 - loss: 1.7819 - val_accuracy: 0.3745 - val_loss: 1.6649\n",
      "Epoch 3/100\n",
      "\u001b[1m782/782\u001b[0m \u001b[32m━━━━━━━━━━━━━━━━━━━━\u001b[0m\u001b[37m\u001b[0m \u001b[1m5s\u001b[0m 7ms/step - accuracy: 0.3926 - loss: 1.6422 - val_accuracy: 0.4329 - val_loss: 1.5295\n",
      "Epoch 4/100\n",
      "\u001b[1m782/782\u001b[0m \u001b[32m━━━━━━━━━━━━━━━━━━━━\u001b[0m\u001b[37m\u001b[0m \u001b[1m5s\u001b[0m 7ms/step - accuracy: 0.4518 - loss: 1.5062 - val_accuracy: 0.4640 - val_loss: 1.4583\n",
      "Epoch 5/100\n",
      "\u001b[1m782/782\u001b[0m \u001b[32m━━━━━━━━━━━━━━━━━━━━\u001b[0m\u001b[37m\u001b[0m \u001b[1m5s\u001b[0m 7ms/step - accuracy: 0.4894 - loss: 1.4072 - val_accuracy: 0.4838 - val_loss: 1.4313\n",
      "Epoch 6/100\n",
      "\u001b[1m782/782\u001b[0m \u001b[32m━━━━━━━━━━━━━━━━━━━━\u001b[0m\u001b[37m\u001b[0m \u001b[1m5s\u001b[0m 7ms/step - accuracy: 0.5204 - loss: 1.3308 - val_accuracy: 0.5170 - val_loss: 1.3448\n",
      "Epoch 7/100\n",
      "\u001b[1m782/782\u001b[0m \u001b[32m━━━━━━━━━━━━━━━━━━━━\u001b[0m\u001b[37m\u001b[0m \u001b[1m5s\u001b[0m 7ms/step - accuracy: 0.5407 - loss: 1.2798 - val_accuracy: 0.5297 - val_loss: 1.3234\n",
      "Epoch 8/100\n",
      "\u001b[1m782/782\u001b[0m \u001b[32m━━━━━━━━━━━━━━━━━━━━\u001b[0m\u001b[37m\u001b[0m \u001b[1m5s\u001b[0m 7ms/step - accuracy: 0.5638 - loss: 1.2303 - val_accuracy: 0.5255 - val_loss: 1.3434\n",
      "Epoch 9/100\n",
      "\u001b[1m782/782\u001b[0m \u001b[32m━━━━━━━━━━━━━━━━━━━━\u001b[0m\u001b[37m\u001b[0m \u001b[1m5s\u001b[0m 7ms/step - accuracy: 0.5781 - loss: 1.1950 - val_accuracy: 0.5489 - val_loss: 1.2738\n",
      "Epoch 10/100\n",
      "\u001b[1m782/782\u001b[0m \u001b[32m━━━━━━━━━━━━━━━━━━━━\u001b[0m\u001b[37m\u001b[0m \u001b[1m5s\u001b[0m 7ms/step - accuracy: 0.5959 - loss: 1.1480 - val_accuracy: 0.5491 - val_loss: 1.3011\n",
      "Epoch 11/100\n",
      "\u001b[1m782/782\u001b[0m \u001b[32m━━━━━━━━━━━━━━━━━━━━\u001b[0m\u001b[37m\u001b[0m \u001b[1m5s\u001b[0m 7ms/step - accuracy: 0.6042 - loss: 1.1209 - val_accuracy: 0.5630 - val_loss: 1.2545\n",
      "Epoch 12/100\n",
      "\u001b[1m782/782\u001b[0m \u001b[32m━━━━━━━━━━━━━━━━━━━━\u001b[0m\u001b[37m\u001b[0m \u001b[1m5s\u001b[0m 7ms/step - accuracy: 0.6147 - loss: 1.0920 - val_accuracy: 0.5570 - val_loss: 1.2667\n",
      "Epoch 13/100\n",
      "\u001b[1m782/782\u001b[0m \u001b[32m━━━━━━━━━━━━━━━━━━━━\u001b[0m\u001b[37m\u001b[0m \u001b[1m5s\u001b[0m 7ms/step - accuracy: 0.6249 - loss: 1.0596 - val_accuracy: 0.5622 - val_loss: 1.2514\n",
      "Epoch 14/100\n",
      "\u001b[1m782/782\u001b[0m \u001b[32m━━━━━━━━━━━━━━━━━━━━\u001b[0m\u001b[37m\u001b[0m \u001b[1m5s\u001b[0m 7ms/step - accuracy: 0.6327 - loss: 1.0355 - val_accuracy: 0.5608 - val_loss: 1.2634\n",
      "Epoch 15/100\n",
      "\u001b[1m782/782\u001b[0m \u001b[32m━━━━━━━━━━━━━━━━━━━━\u001b[0m\u001b[37m\u001b[0m \u001b[1m5s\u001b[0m 7ms/step - accuracy: 0.6421 - loss: 1.0131 - val_accuracy: 0.5704 - val_loss: 1.2541\n",
      "Epoch 16/100\n",
      "\u001b[1m782/782\u001b[0m \u001b[32m━━━━━━━━━━━━━━━━━━━━\u001b[0m\u001b[37m\u001b[0m \u001b[1m5s\u001b[0m 7ms/step - accuracy: 0.6484 - loss: 0.9938 - val_accuracy: 0.5634 - val_loss: 1.2907\n",
      "Epoch 17/100\n",
      "\u001b[1m782/782\u001b[0m \u001b[32m━━━━━━━━━━━━━━━━━━━━\u001b[0m\u001b[37m\u001b[0m \u001b[1m5s\u001b[0m 7ms/step - accuracy: 0.6563 - loss: 0.9733 - val_accuracy: 0.5715 - val_loss: 1.2751\n",
      "Epoch 18/100\n",
      "\u001b[1m782/782\u001b[0m \u001b[32m━━━━━━━━━━━━━━━━━━━━\u001b[0m\u001b[37m\u001b[0m \u001b[1m5s\u001b[0m 7ms/step - accuracy: 0.6673 - loss: 0.9413 - val_accuracy: 0.5691 - val_loss: 1.2743\n",
      "Epoch 19/100\n",
      "\u001b[1m782/782\u001b[0m \u001b[32m━━━━━━━━━━━━━━━━━━━━\u001b[0m\u001b[37m\u001b[0m \u001b[1m5s\u001b[0m 7ms/step - accuracy: 0.6704 - loss: 0.9358 - val_accuracy: 0.5770 - val_loss: 1.2571\n",
      "Epoch 20/100\n",
      "\u001b[1m782/782\u001b[0m \u001b[32m━━━━━━━━━━━━━━━━━━━━\u001b[0m\u001b[37m\u001b[0m \u001b[1m5s\u001b[0m 7ms/step - accuracy: 0.6741 - loss: 0.9185 - val_accuracy: 0.5701 - val_loss: 1.2955\n",
      "Epoch 21/100\n",
      "\u001b[1m782/782\u001b[0m \u001b[32m━━━━━━━━━━━━━━━━━━━━\u001b[0m\u001b[37m\u001b[0m \u001b[1m5s\u001b[0m 7ms/step - accuracy: 0.6814 - loss: 0.8975 - val_accuracy: 0.5737 - val_loss: 1.2977\n",
      "Epoch 22/100\n",
      "\u001b[1m782/782\u001b[0m \u001b[32m━━━━━━━━━━━━━━━━━━━━\u001b[0m\u001b[37m\u001b[0m \u001b[1m5s\u001b[0m 7ms/step - accuracy: 0.6860 - loss: 0.8891 - val_accuracy: 0.5763 - val_loss: 1.3098\n",
      "Epoch 23/100\n",
      "\u001b[1m782/782\u001b[0m \u001b[32m━━━━━━━━━━━━━━━━━━━━\u001b[0m\u001b[37m\u001b[0m \u001b[1m5s\u001b[0m 7ms/step - accuracy: 0.6917 - loss: 0.8734 - val_accuracy: 0.5696 - val_loss: 1.3392\n",
      "Epoch 24/100\n",
      "\u001b[1m782/782\u001b[0m \u001b[32m━━━━━━━━━━━━━━━━━━━━\u001b[0m\u001b[37m\u001b[0m \u001b[1m5s\u001b[0m 7ms/step - accuracy: 0.6970 - loss: 0.8577 - val_accuracy: 0.5771 - val_loss: 1.3301\n",
      "Epoch 25/100\n",
      "\u001b[1m782/782\u001b[0m \u001b[32m━━━━━━━━━━━━━━━━━━━━\u001b[0m\u001b[37m\u001b[0m \u001b[1m5s\u001b[0m 6ms/step - accuracy: 0.7016 - loss: 0.8484 - val_accuracy: 0.5679 - val_loss: 1.3758\n",
      "Epoch 26/100\n",
      "\u001b[1m782/782\u001b[0m \u001b[32m━━━━━━━━━━━━━━━━━━━━\u001b[0m\u001b[37m\u001b[0m \u001b[1m5s\u001b[0m 6ms/step - accuracy: 0.7027 - loss: 0.8364 - val_accuracy: 0.5712 - val_loss: 1.3635\n",
      "Epoch 27/100\n",
      "\u001b[1m782/782\u001b[0m \u001b[32m━━━━━━━━━━━━━━━━━━━━\u001b[0m\u001b[37m\u001b[0m \u001b[1m5s\u001b[0m 6ms/step - accuracy: 0.7098 - loss: 0.8157 - val_accuracy: 0.5725 - val_loss: 1.3573\n",
      "Epoch 28/100\n",
      "\u001b[1m782/782\u001b[0m \u001b[32m━━━━━━━━━━━━━━━━━━━━\u001b[0m\u001b[37m\u001b[0m \u001b[1m5s\u001b[0m 7ms/step - accuracy: 0.7160 - loss: 0.7977 - val_accuracy: 0.5670 - val_loss: 1.3895\n",
      "Epoch 29/100\n",
      "\u001b[1m782/782\u001b[0m \u001b[32m━━━━━━━━━━━━━━━━━━━━\u001b[0m\u001b[37m\u001b[0m \u001b[1m6s\u001b[0m 7ms/step - accuracy: 0.7186 - loss: 0.7919 - val_accuracy: 0.5712 - val_loss: 1.3805\n",
      "Epoch 30/100\n",
      "\u001b[1m782/782\u001b[0m \u001b[32m━━━━━━━━━━━━━━━━━━━━\u001b[0m\u001b[37m\u001b[0m \u001b[1m5s\u001b[0m 7ms/step - accuracy: 0.7171 - loss: 0.7956 - val_accuracy: 0.5740 - val_loss: 1.4033\n",
      "Epoch 31/100\n",
      "\u001b[1m782/782\u001b[0m \u001b[32m━━━━━━━━━━━━━━━━━━━━\u001b[0m\u001b[37m\u001b[0m \u001b[1m6s\u001b[0m 7ms/step - accuracy: 0.7235 - loss: 0.7847 - val_accuracy: 0.5668 - val_loss: 1.4395\n",
      "Epoch 32/100\n",
      "\u001b[1m782/782\u001b[0m \u001b[32m━━━━━━━━━━━━━━━━━━━━\u001b[0m\u001b[37m\u001b[0m \u001b[1m5s\u001b[0m 6ms/step - accuracy: 0.7242 - loss: 0.7699 - val_accuracy: 0.5665 - val_loss: 1.4282\n",
      "Epoch 33/100\n",
      "\u001b[1m782/782\u001b[0m \u001b[32m━━━━━━━━━━━━━━━━━━━━\u001b[0m\u001b[37m\u001b[0m \u001b[1m5s\u001b[0m 6ms/step - accuracy: 0.7276 - loss: 0.7644 - val_accuracy: 0.5653 - val_loss: 1.4647\n",
      "Epoch 34/100\n",
      "\u001b[1m782/782\u001b[0m \u001b[32m━━━━━━━━━━━━━━━━━━━━\u001b[0m\u001b[37m\u001b[0m \u001b[1m5s\u001b[0m 6ms/step - accuracy: 0.7263 - loss: 0.7674 - val_accuracy: 0.5740 - val_loss: 1.4702\n",
      "Epoch 35/100\n",
      "\u001b[1m782/782\u001b[0m \u001b[32m━━━━━━━━━━━━━━━━━━━━\u001b[0m\u001b[37m\u001b[0m \u001b[1m5s\u001b[0m 7ms/step - accuracy: 0.7380 - loss: 0.7342 - val_accuracy: 0.5745 - val_loss: 1.4297\n",
      "Epoch 36/100\n",
      "\u001b[1m782/782\u001b[0m \u001b[32m━━━━━━━━━━━━━━━━━━━━\u001b[0m\u001b[37m\u001b[0m \u001b[1m5s\u001b[0m 6ms/step - accuracy: 0.7344 - loss: 0.7437 - val_accuracy: 0.5697 - val_loss: 1.4527\n",
      "Epoch 37/100\n",
      "\u001b[1m782/782\u001b[0m \u001b[32m━━━━━━━━━━━━━━━━━━━━\u001b[0m\u001b[37m\u001b[0m \u001b[1m5s\u001b[0m 6ms/step - accuracy: 0.7411 - loss: 0.7299 - val_accuracy: 0.5596 - val_loss: 1.4989\n",
      "Epoch 38/100\n",
      "\u001b[1m782/782\u001b[0m \u001b[32m━━━━━━━━━━━━━━━━━━━━\u001b[0m\u001b[37m\u001b[0m \u001b[1m5s\u001b[0m 6ms/step - accuracy: 0.7411 - loss: 0.7299 - val_accuracy: 0.5714 - val_loss: 1.4382\n",
      "Epoch 39/100\n",
      "\u001b[1m782/782\u001b[0m \u001b[32m━━━━━━━━━━━━━━━━━━━━\u001b[0m\u001b[37m\u001b[0m \u001b[1m5s\u001b[0m 6ms/step - accuracy: 0.7384 - loss: 0.7262 - val_accuracy: 0.5685 - val_loss: 1.4703\n",
      "Epoch 40/100\n",
      "\u001b[1m782/782\u001b[0m \u001b[32m━━━━━━━━━━━━━━━━━━━━\u001b[0m\u001b[37m\u001b[0m \u001b[1m5s\u001b[0m 7ms/step - accuracy: 0.7489 - loss: 0.7100 - val_accuracy: 0.5649 - val_loss: 1.5421\n",
      "Epoch 41/100\n",
      "\u001b[1m782/782\u001b[0m \u001b[32m━━━━━━━━━━━━━━━━━━━━\u001b[0m\u001b[37m\u001b[0m \u001b[1m6s\u001b[0m 8ms/step - accuracy: 0.7483 - loss: 0.7059 - val_accuracy: 0.5646 - val_loss: 1.5405\n",
      "Epoch 42/100\n",
      "\u001b[1m782/782\u001b[0m \u001b[32m━━━━━━━━━━━━━━━━━━━━\u001b[0m\u001b[37m\u001b[0m \u001b[1m5s\u001b[0m 7ms/step - accuracy: 0.7504 - loss: 0.7015 - val_accuracy: 0.5610 - val_loss: 1.5614\n",
      "Epoch 43/100\n",
      "\u001b[1m782/782\u001b[0m \u001b[32m━━━━━━━━━━━━━━━━━━━━\u001b[0m\u001b[37m\u001b[0m \u001b[1m5s\u001b[0m 7ms/step - accuracy: 0.7559 - loss: 0.6885 - val_accuracy: 0.5683 - val_loss: 1.5473\n",
      "Epoch 44/100\n",
      "\u001b[1m782/782\u001b[0m \u001b[32m━━━━━━━━━━━━━━━━━━━━\u001b[0m\u001b[37m\u001b[0m \u001b[1m5s\u001b[0m 7ms/step - accuracy: 0.7556 - loss: 0.6885 - val_accuracy: 0.5703 - val_loss: 1.5263\n",
      "Epoch 45/100\n",
      "\u001b[1m782/782\u001b[0m \u001b[32m━━━━━━━━━━━━━━━━━━━━\u001b[0m\u001b[37m\u001b[0m \u001b[1m5s\u001b[0m 7ms/step - accuracy: 0.7557 - loss: 0.6817 - val_accuracy: 0.5585 - val_loss: 1.6209\n",
      "Epoch 46/100\n",
      "\u001b[1m782/782\u001b[0m \u001b[32m━━━━━━━━━━━━━━━━━━━━\u001b[0m\u001b[37m\u001b[0m \u001b[1m5s\u001b[0m 7ms/step - accuracy: 0.7595 - loss: 0.6782 - val_accuracy: 0.5663 - val_loss: 1.5888\n",
      "Epoch 47/100\n",
      "\u001b[1m782/782\u001b[0m \u001b[32m━━━━━━━━━━━━━━━━━━━━\u001b[0m\u001b[37m\u001b[0m \u001b[1m5s\u001b[0m 7ms/step - accuracy: 0.7572 - loss: 0.6822 - val_accuracy: 0.5661 - val_loss: 1.5687\n",
      "Epoch 48/100\n",
      "\u001b[1m782/782\u001b[0m \u001b[32m━━━━━━━━━━━━━━━━━━━━\u001b[0m\u001b[37m\u001b[0m \u001b[1m5s\u001b[0m 7ms/step - accuracy: 0.7641 - loss: 0.6639 - val_accuracy: 0.5672 - val_loss: 1.6184\n",
      "Epoch 49/100\n",
      "\u001b[1m782/782\u001b[0m \u001b[32m━━━━━━━━━━━━━━━━━━━━\u001b[0m\u001b[37m\u001b[0m \u001b[1m5s\u001b[0m 7ms/step - accuracy: 0.7597 - loss: 0.6712 - val_accuracy: 0.5529 - val_loss: 1.6989\n",
      "Epoch 50/100\n",
      "\u001b[1m782/782\u001b[0m \u001b[32m━━━━━━━━━━━━━━━━━━━━\u001b[0m\u001b[37m\u001b[0m \u001b[1m5s\u001b[0m 7ms/step - accuracy: 0.7643 - loss: 0.6669 - val_accuracy: 0.5584 - val_loss: 1.6526\n",
      "Epoch 51/100\n",
      "\u001b[1m782/782\u001b[0m \u001b[32m━━━━━━━━━━━━━━━━━━━━\u001b[0m\u001b[37m\u001b[0m \u001b[1m5s\u001b[0m 7ms/step - accuracy: 0.7678 - loss: 0.6566 - val_accuracy: 0.5575 - val_loss: 1.7219\n",
      "Epoch 52/100\n",
      "\u001b[1m782/782\u001b[0m \u001b[32m━━━━━━━━━━━━━━━━━━━━\u001b[0m\u001b[37m\u001b[0m \u001b[1m5s\u001b[0m 7ms/step - accuracy: 0.7685 - loss: 0.6538 - val_accuracy: 0.5576 - val_loss: 1.6792\n",
      "Epoch 53/100\n",
      "\u001b[1m782/782\u001b[0m \u001b[32m━━━━━━━━━━━━━━━━━━━━\u001b[0m\u001b[37m\u001b[0m \u001b[1m5s\u001b[0m 7ms/step - accuracy: 0.7674 - loss: 0.6595 - val_accuracy: 0.5661 - val_loss: 1.7087\n",
      "Epoch 54/100\n",
      "\u001b[1m782/782\u001b[0m \u001b[32m━━━━━━━━━━━━━━━━━━━━\u001b[0m\u001b[37m\u001b[0m \u001b[1m5s\u001b[0m 7ms/step - accuracy: 0.7716 - loss: 0.6426 - val_accuracy: 0.5615 - val_loss: 1.7256\n",
      "Epoch 55/100\n",
      "\u001b[1m782/782\u001b[0m \u001b[32m━━━━━━━━━━━━━━━━━━━━\u001b[0m\u001b[37m\u001b[0m \u001b[1m6s\u001b[0m 7ms/step - accuracy: 0.7716 - loss: 0.6407 - val_accuracy: 0.5577 - val_loss: 1.6598\n",
      "Epoch 56/100\n",
      "\u001b[1m782/782\u001b[0m \u001b[32m━━━━━━━━━━━━━━━━━━━━\u001b[0m\u001b[37m\u001b[0m \u001b[1m5s\u001b[0m 7ms/step - accuracy: 0.7784 - loss: 0.6258 - val_accuracy: 0.5612 - val_loss: 1.6820\n",
      "Epoch 57/100\n",
      "\u001b[1m782/782\u001b[0m \u001b[32m━━━━━━━━━━━━━━━━━━━━\u001b[0m\u001b[37m\u001b[0m \u001b[1m5s\u001b[0m 7ms/step - accuracy: 0.7795 - loss: 0.6266 - val_accuracy: 0.5508 - val_loss: 1.7504\n",
      "Epoch 58/100\n",
      "\u001b[1m782/782\u001b[0m \u001b[32m━━━━━━━━━━━━━━━━━━━━\u001b[0m\u001b[37m\u001b[0m \u001b[1m5s\u001b[0m 7ms/step - accuracy: 0.7792 - loss: 0.6231 - val_accuracy: 0.5582 - val_loss: 1.7568\n",
      "Epoch 59/100\n",
      "\u001b[1m782/782\u001b[0m \u001b[32m━━━━━━━━━━━━━━━━━━━━\u001b[0m\u001b[37m\u001b[0m \u001b[1m5s\u001b[0m 7ms/step - accuracy: 0.7738 - loss: 0.6324 - val_accuracy: 0.5496 - val_loss: 1.8052\n",
      "Epoch 60/100\n",
      "\u001b[1m782/782\u001b[0m \u001b[32m━━━━━━━━━━━━━━━━━━━━\u001b[0m\u001b[37m\u001b[0m \u001b[1m5s\u001b[0m 7ms/step - accuracy: 0.7734 - loss: 0.6317 - val_accuracy: 0.5573 - val_loss: 1.7984\n",
      "Epoch 61/100\n",
      "\u001b[1m782/782\u001b[0m \u001b[32m━━━━━━━━━━━━━━━━━━━━\u001b[0m\u001b[37m\u001b[0m \u001b[1m5s\u001b[0m 7ms/step - accuracy: 0.7772 - loss: 0.6206 - val_accuracy: 0.5670 - val_loss: 1.6928\n",
      "Epoch 62/100\n",
      "\u001b[1m782/782\u001b[0m \u001b[32m━━━━━━━━━━━━━━━━━━━━\u001b[0m\u001b[37m\u001b[0m \u001b[1m5s\u001b[0m 7ms/step - accuracy: 0.7866 - loss: 0.6048 - val_accuracy: 0.5486 - val_loss: 1.8067\n",
      "Epoch 63/100\n",
      "\u001b[1m782/782\u001b[0m \u001b[32m━━━━━━━━━━━━━━━━━━━━\u001b[0m\u001b[37m\u001b[0m \u001b[1m5s\u001b[0m 7ms/step - accuracy: 0.7803 - loss: 0.6175 - val_accuracy: 0.5535 - val_loss: 1.9037\n",
      "Epoch 64/100\n",
      "\u001b[1m782/782\u001b[0m \u001b[32m━━━━━━━━━━━━━━━━━━━━\u001b[0m\u001b[37m\u001b[0m \u001b[1m5s\u001b[0m 7ms/step - accuracy: 0.7811 - loss: 0.6163 - val_accuracy: 0.5380 - val_loss: 2.0092\n",
      "Epoch 65/100\n",
      "\u001b[1m782/782\u001b[0m \u001b[32m━━━━━━━━━━━━━━━━━━━━\u001b[0m\u001b[37m\u001b[0m \u001b[1m5s\u001b[0m 7ms/step - accuracy: 0.7820 - loss: 0.6070 - val_accuracy: 0.5441 - val_loss: 1.8957\n",
      "Epoch 66/100\n",
      "\u001b[1m782/782\u001b[0m \u001b[32m━━━━━━━━━━━━━━━━━━━━\u001b[0m\u001b[37m\u001b[0m \u001b[1m5s\u001b[0m 7ms/step - accuracy: 0.7818 - loss: 0.6048 - val_accuracy: 0.5413 - val_loss: 1.9479\n",
      "Epoch 67/100\n",
      "\u001b[1m782/782\u001b[0m \u001b[32m━━━━━━━━━━━━━━━━━━━━\u001b[0m\u001b[37m\u001b[0m \u001b[1m5s\u001b[0m 7ms/step - accuracy: 0.7809 - loss: 0.6116 - val_accuracy: 0.5537 - val_loss: 1.8150\n",
      "Epoch 68/100\n",
      "\u001b[1m782/782\u001b[0m \u001b[32m━━━━━━━━━━━━━━━━━━━━\u001b[0m\u001b[37m\u001b[0m \u001b[1m5s\u001b[0m 7ms/step - accuracy: 0.7869 - loss: 0.5972 - val_accuracy: 0.5497 - val_loss: 1.8401\n",
      "Epoch 69/100\n",
      "\u001b[1m782/782\u001b[0m \u001b[32m━━━━━━━━━━━━━━━━━━━━\u001b[0m\u001b[37m\u001b[0m \u001b[1m5s\u001b[0m 7ms/step - accuracy: 0.7876 - loss: 0.5882 - val_accuracy: 0.5518 - val_loss: 1.8849\n",
      "Epoch 70/100\n",
      "\u001b[1m782/782\u001b[0m \u001b[32m━━━━━━━━━━━━━━━━━━━━\u001b[0m\u001b[37m\u001b[0m \u001b[1m5s\u001b[0m 7ms/step - accuracy: 0.7903 - loss: 0.5872 - val_accuracy: 0.5475 - val_loss: 1.9506\n",
      "Epoch 71/100\n",
      "\u001b[1m782/782\u001b[0m \u001b[32m━━━━━━━━━━━━━━━━━━━━\u001b[0m\u001b[37m\u001b[0m \u001b[1m5s\u001b[0m 7ms/step - accuracy: 0.7901 - loss: 0.5856 - val_accuracy: 0.5555 - val_loss: 1.8254\n",
      "Epoch 72/100\n",
      "\u001b[1m782/782\u001b[0m \u001b[32m━━━━━━━━━━━━━━━━━━━━\u001b[0m\u001b[37m\u001b[0m \u001b[1m5s\u001b[0m 7ms/step - accuracy: 0.7924 - loss: 0.5766 - val_accuracy: 0.5547 - val_loss: 1.9320\n",
      "Epoch 73/100\n",
      "\u001b[1m782/782\u001b[0m \u001b[32m━━━━━━━━━━━━━━━━━━━━\u001b[0m\u001b[37m\u001b[0m \u001b[1m5s\u001b[0m 7ms/step - accuracy: 0.7967 - loss: 0.5688 - val_accuracy: 0.5507 - val_loss: 1.9246\n",
      "Epoch 74/100\n",
      "\u001b[1m782/782\u001b[0m \u001b[32m━━━━━━━━━━━━━━━━━━━━\u001b[0m\u001b[37m\u001b[0m \u001b[1m6s\u001b[0m 7ms/step - accuracy: 0.7917 - loss: 0.5753 - val_accuracy: 0.5395 - val_loss: 2.0319\n",
      "Epoch 75/100\n",
      "\u001b[1m782/782\u001b[0m \u001b[32m━━━━━━━━━━━━━━━━━━━━\u001b[0m\u001b[37m\u001b[0m \u001b[1m6s\u001b[0m 7ms/step - accuracy: 0.7911 - loss: 0.5788 - val_accuracy: 0.5498 - val_loss: 1.9409\n",
      "Epoch 76/100\n",
      "\u001b[1m782/782\u001b[0m \u001b[32m━━━━━━━━━━━━━━━━━━━━\u001b[0m\u001b[37m\u001b[0m \u001b[1m6s\u001b[0m 7ms/step - accuracy: 0.7994 - loss: 0.5670 - val_accuracy: 0.5435 - val_loss: 1.9725\n",
      "Epoch 77/100\n",
      "\u001b[1m782/782\u001b[0m \u001b[32m━━━━━━━━━━━━━━━━━━━━\u001b[0m\u001b[37m\u001b[0m \u001b[1m6s\u001b[0m 7ms/step - accuracy: 0.8004 - loss: 0.5623 - val_accuracy: 0.5396 - val_loss: 2.1362\n",
      "Epoch 78/100\n",
      "\u001b[1m782/782\u001b[0m \u001b[32m━━━━━━━━━━━━━━━━━━━━\u001b[0m\u001b[37m\u001b[0m \u001b[1m5s\u001b[0m 7ms/step - accuracy: 0.8038 - loss: 0.5514 - val_accuracy: 0.5489 - val_loss: 2.0134\n",
      "Epoch 79/100\n",
      "\u001b[1m782/782\u001b[0m \u001b[32m━━━━━━━━━━━━━━━━━━━━\u001b[0m\u001b[37m\u001b[0m \u001b[1m6s\u001b[0m 7ms/step - accuracy: 0.7965 - loss: 0.5675 - val_accuracy: 0.5411 - val_loss: 2.0085\n",
      "Epoch 80/100\n",
      "\u001b[1m782/782\u001b[0m \u001b[32m━━━━━━━━━━━━━━━━━━━━\u001b[0m\u001b[37m\u001b[0m \u001b[1m5s\u001b[0m 7ms/step - accuracy: 0.7994 - loss: 0.5581 - val_accuracy: 0.5464 - val_loss: 1.9934\n",
      "Epoch 81/100\n",
      "\u001b[1m782/782\u001b[0m \u001b[32m━━━━━━━━━━━━━━━━━━━━\u001b[0m\u001b[37m\u001b[0m \u001b[1m5s\u001b[0m 7ms/step - accuracy: 0.7969 - loss: 0.5594 - val_accuracy: 0.5491 - val_loss: 1.9974\n",
      "Epoch 82/100\n",
      "\u001b[1m782/782\u001b[0m \u001b[32m━━━━━━━━━━━━━━━━━━━━\u001b[0m\u001b[37m\u001b[0m \u001b[1m5s\u001b[0m 7ms/step - accuracy: 0.7973 - loss: 0.5706 - val_accuracy: 0.5475 - val_loss: 2.0276\n",
      "Epoch 83/100\n",
      "\u001b[1m782/782\u001b[0m \u001b[32m━━━━━━━━━━━━━━━━━━━━\u001b[0m\u001b[37m\u001b[0m \u001b[1m5s\u001b[0m 7ms/step - accuracy: 0.8035 - loss: 0.5438 - val_accuracy: 0.5476 - val_loss: 1.9897\n",
      "Epoch 84/100\n",
      "\u001b[1m782/782\u001b[0m \u001b[32m━━━━━━━━━━━━━━━━━━━━\u001b[0m\u001b[37m\u001b[0m \u001b[1m5s\u001b[0m 7ms/step - accuracy: 0.7979 - loss: 0.5670 - val_accuracy: 0.5490 - val_loss: 2.0554\n",
      "Epoch 85/100\n",
      "\u001b[1m782/782\u001b[0m \u001b[32m━━━━━━━━━━━━━━━━━━━━\u001b[0m\u001b[37m\u001b[0m \u001b[1m6s\u001b[0m 7ms/step - accuracy: 0.8082 - loss: 0.5452 - val_accuracy: 0.5391 - val_loss: 2.1333\n",
      "Epoch 86/100\n",
      "\u001b[1m782/782\u001b[0m \u001b[32m━━━━━━━━━━━━━━━━━━━━\u001b[0m\u001b[37m\u001b[0m \u001b[1m6s\u001b[0m 7ms/step - accuracy: 0.8014 - loss: 0.5605 - val_accuracy: 0.5555 - val_loss: 2.0251\n",
      "Epoch 87/100\n",
      "\u001b[1m782/782\u001b[0m \u001b[32m━━━━━━━━━━━━━━━━━━━━\u001b[0m\u001b[37m\u001b[0m \u001b[1m6s\u001b[0m 7ms/step - accuracy: 0.8073 - loss: 0.5503 - val_accuracy: 0.5436 - val_loss: 2.1216\n",
      "Epoch 88/100\n",
      "\u001b[1m782/782\u001b[0m \u001b[32m━━━━━━━━━━━━━━━━━━━━\u001b[0m\u001b[37m\u001b[0m \u001b[1m5s\u001b[0m 7ms/step - accuracy: 0.8022 - loss: 0.5480 - val_accuracy: 0.5384 - val_loss: 2.2441\n",
      "Epoch 89/100\n",
      "\u001b[1m782/782\u001b[0m \u001b[32m━━━━━━━━━━━━━━━━━━━━\u001b[0m\u001b[37m\u001b[0m \u001b[1m6s\u001b[0m 7ms/step - accuracy: 0.8058 - loss: 0.5354 - val_accuracy: 0.5519 - val_loss: 2.1177\n",
      "Epoch 90/100\n",
      "\u001b[1m782/782\u001b[0m \u001b[32m━━━━━━━━━━━━━━━━━━━━\u001b[0m\u001b[37m\u001b[0m \u001b[1m6s\u001b[0m 7ms/step - accuracy: 0.8035 - loss: 0.5438 - val_accuracy: 0.5429 - val_loss: 2.1096\n",
      "Epoch 91/100\n",
      "\u001b[1m782/782\u001b[0m \u001b[32m━━━━━━━━━━━━━━━━━━━━\u001b[0m\u001b[37m\u001b[0m \u001b[1m6s\u001b[0m 7ms/step - accuracy: 0.8115 - loss: 0.5285 - val_accuracy: 0.5391 - val_loss: 1.9875\n",
      "Epoch 92/100\n",
      "\u001b[1m782/782\u001b[0m \u001b[32m━━━━━━━━━━━━━━━━━━━━\u001b[0m\u001b[37m\u001b[0m \u001b[1m6s\u001b[0m 7ms/step - accuracy: 0.8067 - loss: 0.5365 - val_accuracy: 0.5423 - val_loss: 2.2034\n",
      "Epoch 93/100\n",
      "\u001b[1m782/782\u001b[0m \u001b[32m━━━━━━━━━━━━━━━━━━━━\u001b[0m\u001b[37m\u001b[0m \u001b[1m5s\u001b[0m 7ms/step - accuracy: 0.8090 - loss: 0.5332 - val_accuracy: 0.5421 - val_loss: 2.1251\n",
      "Epoch 94/100\n",
      "\u001b[1m782/782\u001b[0m \u001b[32m━━━━━━━━━━━━━━━━━━━━\u001b[0m\u001b[37m\u001b[0m \u001b[1m6s\u001b[0m 7ms/step - accuracy: 0.8116 - loss: 0.5250 - val_accuracy: 0.5412 - val_loss: 2.1689\n",
      "Epoch 95/100\n",
      "\u001b[1m782/782\u001b[0m \u001b[32m━━━━━━━━━━━━━━━━━━━━\u001b[0m\u001b[37m\u001b[0m \u001b[1m5s\u001b[0m 7ms/step - accuracy: 0.8119 - loss: 0.5263 - val_accuracy: 0.5457 - val_loss: 2.0799\n",
      "Epoch 96/100\n",
      "\u001b[1m782/782\u001b[0m \u001b[32m━━━━━━━━━━━━━━━━━━━━\u001b[0m\u001b[37m\u001b[0m \u001b[1m6s\u001b[0m 7ms/step - accuracy: 0.8109 - loss: 0.5259 - val_accuracy: 0.5440 - val_loss: 2.1860\n",
      "Epoch 97/100\n",
      "\u001b[1m782/782\u001b[0m \u001b[32m━━━━━━━━━━━━━━━━━━━━\u001b[0m\u001b[37m\u001b[0m \u001b[1m6s\u001b[0m 7ms/step - accuracy: 0.8051 - loss: 0.5385 - val_accuracy: 0.5468 - val_loss: 2.0747\n",
      "Epoch 98/100\n",
      "\u001b[1m782/782\u001b[0m \u001b[32m━━━━━━━━━━━━━━━━━━━━\u001b[0m\u001b[37m\u001b[0m \u001b[1m6s\u001b[0m 7ms/step - accuracy: 0.8163 - loss: 0.5155 - val_accuracy: 0.5508 - val_loss: 2.1901\n",
      "Epoch 99/100\n",
      "\u001b[1m782/782\u001b[0m \u001b[32m━━━━━━━━━━━━━━━━━━━━\u001b[0m\u001b[37m\u001b[0m \u001b[1m6s\u001b[0m 8ms/step - accuracy: 0.8157 - loss: 0.5149 - val_accuracy: 0.5367 - val_loss: 2.1854\n",
      "Epoch 100/100\n",
      "\u001b[1m782/782\u001b[0m \u001b[32m━━━━━━━━━━━━━━━━━━━━\u001b[0m\u001b[37m\u001b[0m \u001b[1m6s\u001b[0m 7ms/step - accuracy: 0.8073 - loss: 0.5369 - val_accuracy: 0.5406 - val_loss: 2.2356\n"
     ]
    }
   ],
   "source": [
    "model= Sequential()\n",
    "model.add(Conv2D(6,(3,3),activation='relu'))\n",
    "model.add(MaxPool2D((2,2)))\n",
    "model.add(Conv2D(6,(3,3),activation='relu'))\n",
    "model.add(MaxPool2D((2,2)))\n",
    "model.add(Flatten(input_shape=(32,32,3)))\n",
    "model.add(Dense(128,activation='relu'))\n",
    "model.add(Dense(64,activation='relu'))\n",
    "model.add(Dense(10,activation='softmax'))\n",
    "model.compile(optimizer='adam', loss='categorical_crossentropy',metrics=['accuracy'])\n",
    "result=model.fit(x_train, y_train, epochs=100, batch_size=64,validation_data=(x_test, y_test))\n"
   ]
  },
  {
   "cell_type": "code",
   "execution_count": 26,
   "metadata": {},
   "outputs": [
    {
     "name": "stdout",
     "output_type": "stream",
     "text": [
      "dict_items([('accuracy', [0.23469999432563782, 0.367139995098114, 0.45471999049186707, 0.5116999745368958, 0.5513399839401245, 0.5846400260925293, 0.6176400184631348, 0.6420800089836121, 0.669700026512146, 0.6891800165176392, 0.7109400033950806, 0.7333999872207642, 0.7509599924087524, 0.7671599984169006, 0.781000018119812, 0.7924000024795532, 0.8094800114631653, 0.8187999725341797, 0.8290600180625916, 0.8340799808502197, 0.8441600203514099, 0.8528199791908264, 0.8626800179481506, 0.8668000102043152, 0.8733599781990051, 0.8798800110816956, 0.8792600035667419, 0.8879799842834473, 0.8873000144958496, 0.8928800225257874, 0.89301997423172, 0.8993399739265442, 0.9089999794960022, 0.9070600271224976, 0.9086199998855591, 0.9118800163269043, 0.9146599769592285, 0.9163200259208679, 0.9211599826812744, 0.9207800030708313, 0.9249200224876404, 0.921720027923584, 0.9293400049209595, 0.9298400282859802, 0.9279400110244751, 0.9310399889945984, 0.9315599799156189, 0.9362999796867371, 0.9343799948692322, 0.9337599873542786, 0.9399399757385254, 0.9419000148773193, 0.9415199756622314, 0.939079999923706, 0.9425399899482727, 0.9428200125694275, 0.9455599784851074, 0.943340003490448, 0.9475799798965454, 0.9446799755096436, 0.9487000107765198, 0.9556800127029419, 0.9395599961280823, 0.9493799805641174, 0.9567599892616272, 0.9501199722290039, 0.9496399760246277, 0.9549999833106995, 0.9515200257301331, 0.9512400031089783, 0.9521399736404419, 0.9490000009536743, 0.9571599960327148, 0.962119996547699, 0.9541000127792358, 0.9560400247573853, 0.9581800103187561, 0.9595999717712402, 0.9581400156021118, 0.9574800133705139, 0.9596199989318848, 0.9581999778747559, 0.961899995803833, 0.9629600048065186, 0.9567999839782715, 0.9552599787712097, 0.9672799706459045, 0.9620800018310547, 0.9608799815177917, 0.9615600109100342, 0.9666000008583069, 0.9618800282478333, 0.9628000259399414, 0.9635199904441833, 0.9678800106048584, 0.9641600251197815, 0.9620599746704102, 0.9615799784660339, 0.9684799909591675, 0.9620199799537659]), ('loss', [3.969311475753784, 1.8011318445205688, 1.5474048852920532, 1.3826065063476562, 1.272138237953186, 1.1876295804977417, 1.0984537601470947, 1.028578519821167, 0.9518489241600037, 0.8933220505714417, 0.8316570520401001, 0.7743064165115356, 0.7211341261863708, 0.6767727136611938, 0.6294986605644226, 0.6024938821792603, 0.5502991676330566, 0.5247774720191956, 0.49666184186935425, 0.47915688157081604, 0.4502144157886505, 0.42763251066207886, 0.3989579975605011, 0.38702598214149475, 0.3719950318336487, 0.35097557306289673, 0.3561256527900696, 0.3255003094673157, 0.331727534532547, 0.309114545583725, 0.3118820786476135, 0.297974556684494, 0.26512473821640015, 0.27638837695121765, 0.2624553442001343, 0.259026437997818, 0.25198376178741455, 0.24498505890369415, 0.2351411134004593, 0.23508062958717346, 0.22339469194412231, 0.2325286865234375, 0.2065814584493637, 0.21024306118488312, 0.21436619758605957, 0.20564360916614532, 0.20229709148406982, 0.18869461119174957, 0.19161300361156464, 0.2019420713186264, 0.17889581620693207, 0.1734548658132553, 0.1746024340391159, 0.18347729742527008, 0.1745762676000595, 0.17412669956684113, 0.1622363030910492, 0.16969789564609528, 0.16190196573734283, 0.17082487046718597, 0.15722699463367462, 0.13065199553966522, 0.19035503268241882, 0.15874171257019043, 0.1323961317539215, 0.1574646383523941, 0.1535675823688507, 0.13972270488739014, 0.14840580523014069, 0.1496022641658783, 0.1482481211423874, 0.15781201422214508, 0.13358712196350098, 0.11721879243850708, 0.14392048120498657, 0.13598567247390747, 0.13077911734580994, 0.12882213294506073, 0.13439585268497467, 0.13730427622795105, 0.1254781186580658, 0.13256877660751343, 0.11929406970739365, 0.11712433397769928, 0.13776402175426483, 0.14324145019054413, 0.09804345667362213, 0.12415223568677902, 0.12728707492351532, 0.12309671938419342, 0.10566480457782745, 0.1218654066324234, 0.12462963163852692, 0.12057869881391525, 0.10049140453338623, 0.11396528035402298, 0.12780584394931793, 0.1295962631702423, 0.10323864966630936, 0.12729759514331818]), ('val_accuracy', [0.3125999867916107, 0.3549000024795532, 0.4641999900341034, 0.47850000858306885, 0.4959000051021576, 0.49309998750686646, 0.5001999735832214, 0.5139999985694885, 0.5184000134468079, 0.5123999714851379, 0.49799999594688416, 0.5030999779701233, 0.5080000162124634, 0.5199000239372253, 0.510699987411499, 0.5002999901771545, 0.507099986076355, 0.5121999979019165, 0.5108000040054321, 0.5023999810218811, 0.5045999884605408, 0.5098999738693237, 0.5076000094413757, 0.49470001459121704, 0.5011000037193298, 0.4957999885082245, 0.49810001254081726, 0.4968999922275543, 0.4945000112056732, 0.4943000078201294, 0.4918000102043152, 0.4975999891757965, 0.503600001335144, 0.4950000047683716, 0.489300012588501, 0.4869999885559082, 0.4893999993801117, 0.475600004196167, 0.4916999936103821, 0.49480000138282776, 0.4855000078678131, 0.4936999976634979, 0.49549999833106995, 0.4894999861717224, 0.49720001220703125, 0.4819999933242798, 0.48399999737739563, 0.4902999997138977, 0.499099999666214, 0.4878999888896942, 0.48890000581741333, 0.4812999963760376, 0.4887999892234802, 0.48170000314712524, 0.49070000648498535, 0.4832000136375427, 0.49619999527931213, 0.48260000348091125, 0.48500001430511475, 0.4796000123023987, 0.49079999327659607, 0.491100013256073, 0.49939998984336853, 0.4952000081539154, 0.4848000109195709, 0.49810001254081726, 0.48399999737739563, 0.4821999967098236, 0.48660001158714294, 0.49079999327659607, 0.48840001225471497, 0.4921000003814697, 0.4851999878883362, 0.48910000920295715, 0.48579999804496765, 0.4878000020980835, 0.48570001125335693, 0.48899999260902405, 0.4916999936103821, 0.4875999987125397, 0.49300000071525574, 0.4864000082015991, 0.4876999855041504, 0.47920000553131104, 0.4878000020980835, 0.4846999943256378, 0.4797999858856201, 0.4828999936580658, 0.48429998755455017, 0.486299991607666, 0.49059998989105225, 0.48429998755455017, 0.487199991941452, 0.48179998993873596, 0.4668000042438507, 0.4862000048160553, 0.4772999882698059, 0.47760000824928284, 0.4943999946117401, 0.4855000078678131]), ('val_loss', [1.97959566116333, 1.799869179725647, 1.5286858081817627, 1.5182514190673828, 1.4779627323150635, 1.5884901285171509, 1.498475193977356, 1.5480514764785767, 1.5787750482559204, 1.5932517051696777, 1.6675093173980713, 1.7740962505340576, 1.8945969343185425, 1.9083681106567383, 2.0805928707122803, 2.151704788208008, 2.160519599914551, 2.2784407138824463, 2.3879644870758057, 2.6385087966918945, 2.4783143997192383, 2.666546583175659, 2.553309917449951, 3.036886692047119, 2.8121156692504883, 3.06791353225708, 3.081343412399292, 3.161526679992676, 3.324171781539917, 3.3137168884277344, 3.607865571975708, 3.635788679122925, 3.6923389434814453, 3.834437131881714, 4.10507345199585, 3.9962034225463867, 4.163162708282471, 4.575951099395752, 3.9126460552215576, 4.286145210266113, 4.550618648529053, 4.31589937210083, 4.513747692108154, 4.7618255615234375, 4.564802646636963, 4.577868938446045, 5.346170902252197, 4.952158451080322, 4.942235946655273, 5.266724109649658, 5.315088272094727, 5.378991603851318, 5.155917167663574, 4.913766384124756, 5.662137031555176, 5.545559883117676, 5.377734184265137, 5.609254360198975, 5.7381486892700195, 5.59912633895874, 5.500557899475098, 5.453996658325195, 5.564754486083984, 5.871559143066406, 6.379577159881592, 5.759726524353027, 5.511096477508545, 6.65123987197876, 6.066832542419434, 6.181215763092041, 5.817336559295654, 6.144944667816162, 6.183210849761963, 6.455758571624756, 6.556328773498535, 6.2803120613098145, 6.504218578338623, 6.94586706161499, 6.590132236480713, 6.713240623474121, 6.08073091506958, 6.58768892288208, 7.062157154083252, 7.050254821777344, 7.350261688232422, 7.062021732330322, 7.881463050842285, 7.227723598480225, 6.985305309295654, 7.598142147064209, 7.559986591339111, 7.681617259979248, 7.235593795776367, 7.513995170593262, 7.13223123550415, 7.8145928382873535, 7.559048652648926, 7.533724784851074, 7.395271301269531, 7.707592964172363])])\n"
     ]
    }
   ],
   "source": [
    "print(result.history.items())\n"
   ]
  },
  {
   "cell_type": "code",
   "execution_count": 27,
   "metadata": {},
   "outputs": [
    {
     "name": "stdout",
     "output_type": "stream",
     "text": [
      "dict_items([('accuracy', [0.23469999432563782, 0.367139995098114, 0.45471999049186707, 0.5116999745368958, 0.5513399839401245, 0.5846400260925293, 0.6176400184631348, 0.6420800089836121, 0.669700026512146, 0.6891800165176392, 0.7109400033950806, 0.7333999872207642, 0.7509599924087524, 0.7671599984169006, 0.781000018119812, 0.7924000024795532, 0.8094800114631653, 0.8187999725341797, 0.8290600180625916, 0.8340799808502197, 0.8441600203514099, 0.8528199791908264, 0.8626800179481506, 0.8668000102043152, 0.8733599781990051, 0.8798800110816956, 0.8792600035667419, 0.8879799842834473, 0.8873000144958496, 0.8928800225257874, 0.89301997423172, 0.8993399739265442, 0.9089999794960022, 0.9070600271224976, 0.9086199998855591, 0.9118800163269043, 0.9146599769592285, 0.9163200259208679, 0.9211599826812744, 0.9207800030708313, 0.9249200224876404, 0.921720027923584, 0.9293400049209595, 0.9298400282859802, 0.9279400110244751, 0.9310399889945984, 0.9315599799156189, 0.9362999796867371, 0.9343799948692322, 0.9337599873542786, 0.9399399757385254, 0.9419000148773193, 0.9415199756622314, 0.939079999923706, 0.9425399899482727, 0.9428200125694275, 0.9455599784851074, 0.943340003490448, 0.9475799798965454, 0.9446799755096436, 0.9487000107765198, 0.9556800127029419, 0.9395599961280823, 0.9493799805641174, 0.9567599892616272, 0.9501199722290039, 0.9496399760246277, 0.9549999833106995, 0.9515200257301331, 0.9512400031089783, 0.9521399736404419, 0.9490000009536743, 0.9571599960327148, 0.962119996547699, 0.9541000127792358, 0.9560400247573853, 0.9581800103187561, 0.9595999717712402, 0.9581400156021118, 0.9574800133705139, 0.9596199989318848, 0.9581999778747559, 0.961899995803833, 0.9629600048065186, 0.9567999839782715, 0.9552599787712097, 0.9672799706459045, 0.9620800018310547, 0.9608799815177917, 0.9615600109100342, 0.9666000008583069, 0.9618800282478333, 0.9628000259399414, 0.9635199904441833, 0.9678800106048584, 0.9641600251197815, 0.9620599746704102, 0.9615799784660339, 0.9684799909591675, 0.9620199799537659]), ('loss', [3.969311475753784, 1.8011318445205688, 1.5474048852920532, 1.3826065063476562, 1.272138237953186, 1.1876295804977417, 1.0984537601470947, 1.028578519821167, 0.9518489241600037, 0.8933220505714417, 0.8316570520401001, 0.7743064165115356, 0.7211341261863708, 0.6767727136611938, 0.6294986605644226, 0.6024938821792603, 0.5502991676330566, 0.5247774720191956, 0.49666184186935425, 0.47915688157081604, 0.4502144157886505, 0.42763251066207886, 0.3989579975605011, 0.38702598214149475, 0.3719950318336487, 0.35097557306289673, 0.3561256527900696, 0.3255003094673157, 0.331727534532547, 0.309114545583725, 0.3118820786476135, 0.297974556684494, 0.26512473821640015, 0.27638837695121765, 0.2624553442001343, 0.259026437997818, 0.25198376178741455, 0.24498505890369415, 0.2351411134004593, 0.23508062958717346, 0.22339469194412231, 0.2325286865234375, 0.2065814584493637, 0.21024306118488312, 0.21436619758605957, 0.20564360916614532, 0.20229709148406982, 0.18869461119174957, 0.19161300361156464, 0.2019420713186264, 0.17889581620693207, 0.1734548658132553, 0.1746024340391159, 0.18347729742527008, 0.1745762676000595, 0.17412669956684113, 0.1622363030910492, 0.16969789564609528, 0.16190196573734283, 0.17082487046718597, 0.15722699463367462, 0.13065199553966522, 0.19035503268241882, 0.15874171257019043, 0.1323961317539215, 0.1574646383523941, 0.1535675823688507, 0.13972270488739014, 0.14840580523014069, 0.1496022641658783, 0.1482481211423874, 0.15781201422214508, 0.13358712196350098, 0.11721879243850708, 0.14392048120498657, 0.13598567247390747, 0.13077911734580994, 0.12882213294506073, 0.13439585268497467, 0.13730427622795105, 0.1254781186580658, 0.13256877660751343, 0.11929406970739365, 0.11712433397769928, 0.13776402175426483, 0.14324145019054413, 0.09804345667362213, 0.12415223568677902, 0.12728707492351532, 0.12309671938419342, 0.10566480457782745, 0.1218654066324234, 0.12462963163852692, 0.12057869881391525, 0.10049140453338623, 0.11396528035402298, 0.12780584394931793, 0.1295962631702423, 0.10323864966630936, 0.12729759514331818]), ('val_accuracy', [0.3125999867916107, 0.3549000024795532, 0.4641999900341034, 0.47850000858306885, 0.4959000051021576, 0.49309998750686646, 0.5001999735832214, 0.5139999985694885, 0.5184000134468079, 0.5123999714851379, 0.49799999594688416, 0.5030999779701233, 0.5080000162124634, 0.5199000239372253, 0.510699987411499, 0.5002999901771545, 0.507099986076355, 0.5121999979019165, 0.5108000040054321, 0.5023999810218811, 0.5045999884605408, 0.5098999738693237, 0.5076000094413757, 0.49470001459121704, 0.5011000037193298, 0.4957999885082245, 0.49810001254081726, 0.4968999922275543, 0.4945000112056732, 0.4943000078201294, 0.4918000102043152, 0.4975999891757965, 0.503600001335144, 0.4950000047683716, 0.489300012588501, 0.4869999885559082, 0.4893999993801117, 0.475600004196167, 0.4916999936103821, 0.49480000138282776, 0.4855000078678131, 0.4936999976634979, 0.49549999833106995, 0.4894999861717224, 0.49720001220703125, 0.4819999933242798, 0.48399999737739563, 0.4902999997138977, 0.499099999666214, 0.4878999888896942, 0.48890000581741333, 0.4812999963760376, 0.4887999892234802, 0.48170000314712524, 0.49070000648498535, 0.4832000136375427, 0.49619999527931213, 0.48260000348091125, 0.48500001430511475, 0.4796000123023987, 0.49079999327659607, 0.491100013256073, 0.49939998984336853, 0.4952000081539154, 0.4848000109195709, 0.49810001254081726, 0.48399999737739563, 0.4821999967098236, 0.48660001158714294, 0.49079999327659607, 0.48840001225471497, 0.4921000003814697, 0.4851999878883362, 0.48910000920295715, 0.48579999804496765, 0.4878000020980835, 0.48570001125335693, 0.48899999260902405, 0.4916999936103821, 0.4875999987125397, 0.49300000071525574, 0.4864000082015991, 0.4876999855041504, 0.47920000553131104, 0.4878000020980835, 0.4846999943256378, 0.4797999858856201, 0.4828999936580658, 0.48429998755455017, 0.486299991607666, 0.49059998989105225, 0.48429998755455017, 0.487199991941452, 0.48179998993873596, 0.4668000042438507, 0.4862000048160553, 0.4772999882698059, 0.47760000824928284, 0.4943999946117401, 0.4855000078678131]), ('val_loss', [1.97959566116333, 1.799869179725647, 1.5286858081817627, 1.5182514190673828, 1.4779627323150635, 1.5884901285171509, 1.498475193977356, 1.5480514764785767, 1.5787750482559204, 1.5932517051696777, 1.6675093173980713, 1.7740962505340576, 1.8945969343185425, 1.9083681106567383, 2.0805928707122803, 2.151704788208008, 2.160519599914551, 2.2784407138824463, 2.3879644870758057, 2.6385087966918945, 2.4783143997192383, 2.666546583175659, 2.553309917449951, 3.036886692047119, 2.8121156692504883, 3.06791353225708, 3.081343412399292, 3.161526679992676, 3.324171781539917, 3.3137168884277344, 3.607865571975708, 3.635788679122925, 3.6923389434814453, 3.834437131881714, 4.10507345199585, 3.9962034225463867, 4.163162708282471, 4.575951099395752, 3.9126460552215576, 4.286145210266113, 4.550618648529053, 4.31589937210083, 4.513747692108154, 4.7618255615234375, 4.564802646636963, 4.577868938446045, 5.346170902252197, 4.952158451080322, 4.942235946655273, 5.266724109649658, 5.315088272094727, 5.378991603851318, 5.155917167663574, 4.913766384124756, 5.662137031555176, 5.545559883117676, 5.377734184265137, 5.609254360198975, 5.7381486892700195, 5.59912633895874, 5.500557899475098, 5.453996658325195, 5.564754486083984, 5.871559143066406, 6.379577159881592, 5.759726524353027, 5.511096477508545, 6.65123987197876, 6.066832542419434, 6.181215763092041, 5.817336559295654, 6.144944667816162, 6.183210849761963, 6.455758571624756, 6.556328773498535, 6.2803120613098145, 6.504218578338623, 6.94586706161499, 6.590132236480713, 6.713240623474121, 6.08073091506958, 6.58768892288208, 7.062157154083252, 7.050254821777344, 7.350261688232422, 7.062021732330322, 7.881463050842285, 7.227723598480225, 6.985305309295654, 7.598142147064209, 7.559986591339111, 7.681617259979248, 7.235593795776367, 7.513995170593262, 7.13223123550415, 7.8145928382873535, 7.559048652648926, 7.533724784851074, 7.395271301269531, 7.707592964172363])])\n"
     ]
    }
   ],
   "source": [
    "print(result.history.items())\n"
   ]
  },
  {
   "cell_type": "markdown",
   "metadata": {},
   "source": [
    "## Visualization"
   ]
  },
  {
   "cell_type": "code",
   "execution_count": 61,
   "metadata": {},
   "outputs": [
    {
     "data": {
      "image/png": "[encoded data removed]",
      "text/plain": [
       "<Figure size 640x480 with 1 Axes>"
      ]
     },
     "metadata": {},
     "output_type": "display_data"
    }
   ],
   "source": [
    "import matplotlib.pyplot as plt\n",
    "plt.plot(result.history['accuracy'],label='train_accuracy',color='blue')\n",
    "plt.plot(result.history['val_accuracy'],label='val_accuracy',color='red')\n",
    "plt.legend()\n",
    "plt.title(\"Train vs Validation Accuracy\")\n",
    "plt.show()\n"
   ]
  },
  {
   "cell_type": "code",
   "execution_count": null,
   "metadata": {},
   "outputs": [],
   "source": []
  }
 ],
 "metadata": {
  "kernelspec": {
   "display_name": "Python 3",
   "language": "python",
   "name": "python3"
  },
  "language_info": {
   "codemirror_mode": {
    "name": "ipython",
    "version": 3
   },
   "file_extension": ".py",
   "mimetype": "text/x-python",
   "name": "python",
   "nbconvert_exporter": "python",
   "pygments_lexer": "ipython3",
   "version": "3.11.4"
  }
 },
 "nbformat": 4,
 "nbformat_minor": 2
}
