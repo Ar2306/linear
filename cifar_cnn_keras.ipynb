{
 "cells": [
  {
   "cell_type": "markdown",
   "metadata": {},
   "source": [
    "## load libraries"
   ]
  },
  {
   "cell_type": "code",
   "execution_count": 40,
   "metadata": {},
   "outputs": [],
   "source": [
    "from keras.models import Sequential\n",
    "from keras.layers import Conv2D,Flatten,MaxPool2D,Dense\n",
    "from keras.datasets import cifar10\n",
    "from keras.utils import to_categorical"
   ]
  },
  {
   "cell_type": "markdown",
   "metadata": {},
   "source": [
    "## load data\n"
   ]
  },
  {
   "cell_type": "code",
   "execution_count": 41,
   "metadata": {},
   "outputs": [],
   "source": [
    "(X_train, y_train), (X_test, y_test) = cifar10.load_data()"
   ]
  },
  {
   "cell_type": "markdown",
   "metadata": {},
   "source": [
    "## preprocess the data"
   ]
  },
  {
   "cell_type": "code",
   "execution_count": 43,
   "metadata": {},
   "outputs": [
    {
     "name": "stdout",
     "output_type": "stream",
     "text": [
      "(50000, 32, 32, 3) (50000, 10, 2)\n"
     ]
    }
   ],
   "source": [
    "y_train = to_categorical(y_train)\n",
    "y_test = to_categorical(y_test)\n",
    "print(X_train.shape, y_train.shape)"
   ]
  },
  {
   "cell_type": "markdown",
   "metadata": {},
   "source": [
    "## Built Architecture"
   ]
  },
  {
   "cell_type": "code",
   "execution_count": 47,
   "metadata": {},
   "outputs": [],
   "source": [
    "model= Sequential()\n",
    "model.add(Conv2D(6,(3,3),activation='relu'))\n",
    "model.add(MaxPool2D((2,2)))\n",
    "model.add(Flatten(input_shape=(32, 32, 3)))\n",
    "model.add(Dense(128, activation='relu'))\n",
    "model.add(Dense(10, activation='softmax'))"
   ]
  },
  {
   "cell_type": "markdown",
   "metadata": {},
   "source": [
    "## compile"
   ]
  },
  {
   "cell_type": "code",
   "execution_count": 48,
   "metadata": {},
   "outputs": [],
   "source": [
    "model.compile(optimizer='adam', loss='categorical_crossentropy', metrics=['accuracy'])"
   ]
  },
  {
   "cell_type": "markdown",
   "metadata": {},
   "source": [
    "## train\n"
   ]
  },
  {
   "cell_type": "code",
   "execution_count": 52,
   "metadata": {},
   "outputs": [
    {
     "name": "stdout",
     "output_type": "stream",
     "text": [
      "Epoch 1/10\n"
     ]
    },
    {
     "ename": "ValueError",
     "evalue": "Attr 'Toutput_types' of 'OptionalFromValue' Op passed list of length 0 less than minimum 1.",
     "output_type": "error",
     "traceback": [
      "\u001b[31m---------------------------------------------------------------------------\u001b[39m",
      "\u001b[31mValueError\u001b[39m                                Traceback (most recent call last)",
      "\u001b[36mCell\u001b[39m\u001b[36m \u001b[39m\u001b[32mIn[52]\u001b[39m\u001b[32m, line 1\u001b[39m\n\u001b[32m----> \u001b[39m\u001b[32m1\u001b[39m \u001b[43mmodel\u001b[49m\u001b[43m.\u001b[49m\u001b[43mfit\u001b[49m\u001b[43m(\u001b[49m\u001b[43mx_train\u001b[49m\u001b[43m,\u001b[49m\u001b[43m \u001b[49m\u001b[43my_train\u001b[49m\u001b[43m,\u001b[49m\u001b[43m \u001b[49m\u001b[43mepochs\u001b[49m\u001b[43m=\u001b[49m\u001b[32;43m10\u001b[39;49m\u001b[43m,\u001b[49m\u001b[43m \u001b[49m\u001b[43mbatch_size\u001b[49m\u001b[43m=\u001b[49m\u001b[32;43m64\u001b[39;49m\u001b[43m)\u001b[49m\n",
      "\u001b[36mFile \u001b[39m\u001b[32m/Library/Frameworks/Python.framework/Versions/3.11/lib/python3.11/site-packages/keras/src/utils/traceback_utils.py:122\u001b[39m, in \u001b[36mfilter_traceback.<locals>.error_handler\u001b[39m\u001b[34m(*args, **kwargs)\u001b[39m\n\u001b[32m    119\u001b[39m     filtered_tb = _process_traceback_frames(e.__traceback__)\n\u001b[32m    120\u001b[39m     \u001b[38;5;66;03m# To get the full stack trace, call:\u001b[39;00m\n\u001b[32m    121\u001b[39m     \u001b[38;5;66;03m# `keras.config.disable_traceback_filtering()`\u001b[39;00m\n\u001b[32m--> \u001b[39m\u001b[32m122\u001b[39m     \u001b[38;5;28;01mraise\u001b[39;00m e.with_traceback(filtered_tb) \u001b[38;5;28;01mfrom\u001b[39;00m\u001b[38;5;250m \u001b[39m\u001b[38;5;28;01mNone\u001b[39;00m\n\u001b[32m    123\u001b[39m \u001b[38;5;28;01mfinally\u001b[39;00m:\n\u001b[32m    124\u001b[39m     \u001b[38;5;28;01mdel\u001b[39;00m filtered_tb\n",
      "\u001b[36mFile \u001b[39m\u001b[32m/Library/Frameworks/Python.framework/Versions/3.11/lib/python3.11/site-packages/keras/src/backend/tensorflow/trainer.py:132\u001b[39m, in \u001b[36mTensorFlowTrainer._make_function.<locals>.multi_step_on_iterator\u001b[39m\u001b[34m(iterator)\u001b[39m\n\u001b[32m    129\u001b[39m \u001b[38;5;129m@tf\u001b[39m.autograph.experimental.do_not_convert\n\u001b[32m    130\u001b[39m \u001b[38;5;28;01mdef\u001b[39;00m\u001b[38;5;250m \u001b[39m\u001b[34mmulti_step_on_iterator\u001b[39m(iterator):\n\u001b[32m    131\u001b[39m     \u001b[38;5;28;01mif\u001b[39;00m \u001b[38;5;28mself\u001b[39m.steps_per_execution == \u001b[32m1\u001b[39m:\n\u001b[32m--> \u001b[39m\u001b[32m132\u001b[39m         \u001b[38;5;28;01mreturn\u001b[39;00m \u001b[43mtf\u001b[49m\u001b[43m.\u001b[49m\u001b[43mexperimental\u001b[49m\u001b[43m.\u001b[49m\u001b[43mOptional\u001b[49m\u001b[43m.\u001b[49m\u001b[43mfrom_value\u001b[49m\u001b[43m(\u001b[49m\n\u001b[32m    133\u001b[39m \u001b[43m            \u001b[49m\u001b[43mone_step_on_data\u001b[49m\u001b[43m(\u001b[49m\u001b[43miterator\u001b[49m\u001b[43m.\u001b[49m\u001b[43mget_next\u001b[49m\u001b[43m(\u001b[49m\u001b[43m)\u001b[49m\u001b[43m)\u001b[49m\n\u001b[32m    134\u001b[39m \u001b[43m        \u001b[49m\u001b[43m)\u001b[49m\n\u001b[32m    136\u001b[39m     \u001b[38;5;66;03m# the spec is set lazily during the tracing of `tf.while_loop`\u001b[39;00m\n\u001b[32m    137\u001b[39m     empty_outputs = tf.experimental.Optional.empty(\u001b[38;5;28;01mNone\u001b[39;00m)\n",
      "\u001b[31mValueError\u001b[39m: Attr 'Toutput_types' of 'OptionalFromValue' Op passed list of length 0 less than minimum 1."
     ]
    }
   ],
   "source": [
    "model.fit(x_train, y_train, epochs=10, batch_size=64)"
   ]
  },
  {
   "cell_type": "markdown",
   "metadata": {},
   "source": [
    "## Experiment 2"
   ]
  },
  {
   "cell_type": "markdown",
   "metadata": {},
   "source": [
    "Analysis : in the previous experiment, it is observed that accuracy is imporved continously for every epoch.\n",
    "\n",
    "so Continue the training by incresaing the no of epoch from 10 to 30"
   ]
  },
  {
   "cell_type": "markdown",
   "metadata": {},
   "source": [
    "Hyperparameters : \n",
    "\n",
    "                epochs: 30\n",
    "                "
   ]
  },
  {
   "cell_type": "code",
   "execution_count": 33,
   "metadata": {},
   "outputs": [
    {
     "name": "stderr",
     "output_type": "stream",
     "text": [
      "/Library/Frameworks/Python.framework/Versions/3.11/lib/python3.11/site-packages/keras/src/layers/reshaping/flatten.py:37: UserWarning: Do not pass an `input_shape`/`input_dim` argument to a layer. When using Sequential models, prefer using an `Input(shape)` object as the first layer in the model instead.\n",
      "  super().__init__(**kwargs)\n"
     ]
    },
    {
     "ename": "NameError",
     "evalue": "name 'X_train_train' is not defined",
     "output_type": "error",
     "traceback": [
      "\u001b[31m---------------------------------------------------------------------------\u001b[39m",
      "\u001b[31mNameError\u001b[39m                                 Traceback (most recent call last)",
      "\u001b[36mCell\u001b[39m\u001b[36m \u001b[39m\u001b[32mIn[33]\u001b[39m\u001b[32m, line 8\u001b[39m\n\u001b[32m      6\u001b[39m model.add(Dense(\u001b[32m10\u001b[39m,activation=\u001b[33m'\u001b[39m\u001b[33msoftmax\u001b[39m\u001b[33m'\u001b[39m))\n\u001b[32m      7\u001b[39m model.compile(optimizer=\u001b[33m'\u001b[39m\u001b[33madam\u001b[39m\u001b[33m'\u001b[39m, loss=\u001b[33m'\u001b[39m\u001b[33mcategorical_crossentropy\u001b[39m\u001b[33m'\u001b[39m,metrics=[\u001b[33m'\u001b[39m\u001b[33maccuracy\u001b[39m\u001b[33m'\u001b[39m])\n\u001b[32m----> \u001b[39m\u001b[32m8\u001b[39m model.fit(\u001b[43mX_train_train\u001b[49m, y_train, epochs=\u001b[32m30\u001b[39m, batch_size=\u001b[32m64\u001b[39m)\n",
      "\u001b[31mNameError\u001b[39m: name 'X_train_train' is not defined"
     ]
    }
   ],
   "source": [
    "model= Sequential()\n",
    "model.add(Conv2D(6,(3,3),activation='relu'))\n",
    "model.add(MaxPool2D())\n",
    "model.add(Flatten(input_shape=(32,32,3)))\n",
    "model.add(Dense(128,activation='relu'))\n",
    "model.add(Dense(10,activation='softmax'))\n",
    "model.compile(optimizer='adam', loss='categorical_crossentropy',metrics=['accuracy'])\n",
    "model.fit(X_train_train, y_train, epochs=30, batch_size=64)\n"
   ]
  },
  {
   "cell_type": "markdown",
   "metadata": {},
   "source": [
    "## Experiment 3"
   ]
  },
  {
   "cell_type": "markdown",
   "metadata": {},
   "source": []
  },
  {
   "cell_type": "code",
   "execution_count": 63,
   "metadata": {},
   "outputs": [
    {
     "name": "stdout",
     "output_type": "stream",
     "text": [
      "Epoch 1/50\n",
      "\u001b[1m782/782\u001b[0m \u001b[32m━━━━━━━━━━━━━━━━━━━━\u001b[0m\u001b[37m\u001b[0m \u001b[1m5s\u001b[0m 5ms/step - accuracy: 0.2049 - loss: 13.9932\n",
      "Epoch 2/50\n",
      "\u001b[1m782/782\u001b[0m \u001b[32m━━━━━━━━━━━━━━━━━━━━\u001b[0m\u001b[37m\u001b[0m \u001b[1m4s\u001b[0m 5ms/step - accuracy: 0.4103 - loss: 1.6897\n",
      "Epoch 3/50\n",
      "\u001b[1m782/782\u001b[0m \u001b[32m━━━━━━━━━━━━━━━━━━━━\u001b[0m\u001b[37m\u001b[0m \u001b[1m4s\u001b[0m 5ms/step - accuracy: 0.4822 - loss: 1.4674\n",
      "Epoch 4/50\n",
      "\u001b[1m782/782\u001b[0m \u001b[32m━━━━━━━━━━━━━━━━━━━━\u001b[0m\u001b[37m\u001b[0m \u001b[1m4s\u001b[0m 5ms/step - accuracy: 0.5177 - loss: 1.3768\n",
      "Epoch 5/50\n",
      "\u001b[1m782/782\u001b[0m \u001b[32m━━━━━━━━━━━━━━━━━━━━\u001b[0m\u001b[37m\u001b[0m \u001b[1m4s\u001b[0m 5ms/step - accuracy: 0.5456 - loss: 1.2942\n",
      "Epoch 6/50\n",
      "\u001b[1m782/782\u001b[0m \u001b[32m━━━━━━━━━━━━━━━━━━━━\u001b[0m\u001b[37m\u001b[0m \u001b[1m4s\u001b[0m 5ms/step - accuracy: 0.5702 - loss: 1.2222\n",
      "Epoch 7/50\n",
      "\u001b[1m782/782\u001b[0m \u001b[32m━━━━━━━━━━━━━━━━━━━━\u001b[0m\u001b[37m\u001b[0m \u001b[1m4s\u001b[0m 5ms/step - accuracy: 0.5895 - loss: 1.1560\n",
      "Epoch 8/50\n",
      "\u001b[1m782/782\u001b[0m \u001b[32m━━━━━━━━━━━━━━━━━━━━\u001b[0m\u001b[37m\u001b[0m \u001b[1m4s\u001b[0m 5ms/step - accuracy: 0.6104 - loss: 1.1137\n",
      "Epoch 9/50\n",
      "\u001b[1m782/782\u001b[0m \u001b[32m━━━━━━━━━━━━━━━━━━━━\u001b[0m\u001b[37m\u001b[0m \u001b[1m4s\u001b[0m 5ms/step - accuracy: 0.6296 - loss: 1.0555\n",
      "Epoch 10/50\n",
      "\u001b[1m782/782\u001b[0m \u001b[32m━━━━━━━━━━━━━━━━━━━━\u001b[0m\u001b[37m\u001b[0m \u001b[1m4s\u001b[0m 5ms/step - accuracy: 0.6491 - loss: 0.9957\n",
      "Epoch 11/50\n",
      "\u001b[1m782/782\u001b[0m \u001b[32m━━━━━━━━━━━━━━━━━━━━\u001b[0m\u001b[37m\u001b[0m \u001b[1m4s\u001b[0m 5ms/step - accuracy: 0.6617 - loss: 0.9545\n",
      "Epoch 12/50\n",
      "\u001b[1m782/782\u001b[0m \u001b[32m━━━━━━━━━━━━━━━━━━━━\u001b[0m\u001b[37m\u001b[0m \u001b[1m4s\u001b[0m 5ms/step - accuracy: 0.6790 - loss: 0.9090\n",
      "Epoch 13/50\n",
      "\u001b[1m782/782\u001b[0m \u001b[32m━━━━━━━━━━━━━━━━━━━━\u001b[0m\u001b[37m\u001b[0m \u001b[1m4s\u001b[0m 5ms/step - accuracy: 0.6950 - loss: 0.8730\n",
      "Epoch 14/50\n",
      "\u001b[1m782/782\u001b[0m \u001b[32m━━━━━━━━━━━━━━━━━━━━\u001b[0m\u001b[37m\u001b[0m \u001b[1m4s\u001b[0m 5ms/step - accuracy: 0.7076 - loss: 0.8308\n",
      "Epoch 15/50\n",
      "\u001b[1m782/782\u001b[0m \u001b[32m━━━━━━━━━━━━━━━━━━━━\u001b[0m\u001b[37m\u001b[0m \u001b[1m4s\u001b[0m 6ms/step - accuracy: 0.7228 - loss: 0.7944\n",
      "Epoch 16/50\n",
      "\u001b[1m782/782\u001b[0m \u001b[32m━━━━━━━━━━━━━━━━━━━━\u001b[0m\u001b[37m\u001b[0m \u001b[1m4s\u001b[0m 5ms/step - accuracy: 0.7387 - loss: 0.7344\n",
      "Epoch 17/50\n",
      "\u001b[1m782/782\u001b[0m \u001b[32m━━━━━━━━━━━━━━━━━━━━\u001b[0m\u001b[37m\u001b[0m \u001b[1m4s\u001b[0m 5ms/step - accuracy: 0.7555 - loss: 0.6926\n",
      "Epoch 18/50\n",
      "\u001b[1m782/782\u001b[0m \u001b[32m━━━━━━━━━━━━━━━━━━━━\u001b[0m\u001b[37m\u001b[0m \u001b[1m4s\u001b[0m 5ms/step - accuracy: 0.7643 - loss: 0.6762\n",
      "Epoch 19/50\n",
      "\u001b[1m782/782\u001b[0m \u001b[32m━━━━━━━━━━━━━━━━━━━━\u001b[0m\u001b[37m\u001b[0m \u001b[1m4s\u001b[0m 5ms/step - accuracy: 0.7733 - loss: 0.6416\n",
      "Epoch 20/50\n",
      "\u001b[1m782/782\u001b[0m \u001b[32m━━━━━━━━━━━━━━━━━━━━\u001b[0m\u001b[37m\u001b[0m \u001b[1m4s\u001b[0m 5ms/step - accuracy: 0.7937 - loss: 0.5922\n",
      "Epoch 21/50\n",
      "\u001b[1m782/782\u001b[0m \u001b[32m━━━━━━━━━━━━━━━━━━━━\u001b[0m\u001b[37m\u001b[0m \u001b[1m4s\u001b[0m 5ms/step - accuracy: 0.8000 - loss: 0.5778\n",
      "Epoch 22/50\n",
      "\u001b[1m782/782\u001b[0m \u001b[32m━━━━━━━━━━━━━━━━━━━━\u001b[0m\u001b[37m\u001b[0m \u001b[1m4s\u001b[0m 6ms/step - accuracy: 0.8079 - loss: 0.5502\n",
      "Epoch 23/50\n",
      "\u001b[1m782/782\u001b[0m \u001b[32m━━━━━━━━━━━━━━━━━━━━\u001b[0m\u001b[37m\u001b[0m \u001b[1m4s\u001b[0m 5ms/step - accuracy: 0.8152 - loss: 0.5324\n",
      "Epoch 24/50\n",
      "\u001b[1m782/782\u001b[0m \u001b[32m━━━━━━━━━━━━━━━━━━━━\u001b[0m\u001b[37m\u001b[0m \u001b[1m4s\u001b[0m 5ms/step - accuracy: 0.8213 - loss: 0.5077\n",
      "Epoch 25/50\n",
      "\u001b[1m782/782\u001b[0m \u001b[32m━━━━━━━━━━━━━━━━━━━━\u001b[0m\u001b[37m\u001b[0m \u001b[1m4s\u001b[0m 5ms/step - accuracy: 0.8301 - loss: 0.4896\n",
      "Epoch 26/50\n",
      "\u001b[1m782/782\u001b[0m \u001b[32m━━━━━━━━━━━━━━━━━━━━\u001b[0m\u001b[37m\u001b[0m \u001b[1m4s\u001b[0m 5ms/step - accuracy: 0.8418 - loss: 0.4539\n",
      "Epoch 27/50\n",
      "\u001b[1m782/782\u001b[0m \u001b[32m━━━━━━━━━━━━━━━━━━━━\u001b[0m\u001b[37m\u001b[0m \u001b[1m4s\u001b[0m 5ms/step - accuracy: 0.8430 - loss: 0.4528\n",
      "Epoch 28/50\n",
      "\u001b[1m782/782\u001b[0m \u001b[32m━━━━━━━━━━━━━━━━━━━━\u001b[0m\u001b[37m\u001b[0m \u001b[1m4s\u001b[0m 5ms/step - accuracy: 0.8504 - loss: 0.4290\n",
      "Epoch 29/50\n",
      "\u001b[1m782/782\u001b[0m \u001b[32m━━━━━━━━━━━━━━━━━━━━\u001b[0m\u001b[37m\u001b[0m \u001b[1m4s\u001b[0m 5ms/step - accuracy: 0.8577 - loss: 0.4092\n",
      "Epoch 30/50\n",
      "\u001b[1m782/782\u001b[0m \u001b[32m━━━━━━━━━━━━━━━━━━━━\u001b[0m\u001b[37m\u001b[0m \u001b[1m4s\u001b[0m 5ms/step - accuracy: 0.8643 - loss: 0.3866\n",
      "Epoch 31/50\n",
      "\u001b[1m782/782\u001b[0m \u001b[32m━━━━━━━━━━━━━━━━━━━━\u001b[0m\u001b[37m\u001b[0m \u001b[1m4s\u001b[0m 5ms/step - accuracy: 0.8673 - loss: 0.3816\n",
      "Epoch 32/50\n",
      "\u001b[1m782/782\u001b[0m \u001b[32m━━━━━━━━━━━━━━━━━━━━\u001b[0m\u001b[37m\u001b[0m \u001b[1m4s\u001b[0m 5ms/step - accuracy: 0.8747 - loss: 0.3581\n",
      "Epoch 33/50\n",
      "\u001b[1m782/782\u001b[0m \u001b[32m━━━━━━━━━━━━━━━━━━━━\u001b[0m\u001b[37m\u001b[0m \u001b[1m4s\u001b[0m 5ms/step - accuracy: 0.8713 - loss: 0.3676\n",
      "Epoch 34/50\n",
      "\u001b[1m782/782\u001b[0m \u001b[32m━━━━━━━━━━━━━━━━━━━━\u001b[0m\u001b[37m\u001b[0m \u001b[1m4s\u001b[0m 5ms/step - accuracy: 0.8882 - loss: 0.3209\n",
      "Epoch 35/50\n",
      "\u001b[1m782/782\u001b[0m \u001b[32m━━━━━━━━━━━━━━━━━━━━\u001b[0m\u001b[37m\u001b[0m \u001b[1m4s\u001b[0m 5ms/step - accuracy: 0.8775 - loss: 0.3485\n",
      "Epoch 36/50\n",
      "\u001b[1m782/782\u001b[0m \u001b[32m━━━━━━━━━━━━━━━━━━━━\u001b[0m\u001b[37m\u001b[0m \u001b[1m4s\u001b[0m 5ms/step - accuracy: 0.8905 - loss: 0.3188\n",
      "Epoch 37/50\n",
      "\u001b[1m782/782\u001b[0m \u001b[32m━━━━━━━━━━━━━━━━━━━━\u001b[0m\u001b[37m\u001b[0m \u001b[1m4s\u001b[0m 5ms/step - accuracy: 0.8955 - loss: 0.2969\n",
      "Epoch 38/50\n",
      "\u001b[1m782/782\u001b[0m \u001b[32m━━━━━━━━━━━━━━━━━━━━\u001b[0m\u001b[37m\u001b[0m \u001b[1m4s\u001b[0m 5ms/step - accuracy: 0.8860 - loss: 0.3276\n",
      "Epoch 39/50\n",
      "\u001b[1m782/782\u001b[0m \u001b[32m━━━━━━━━━━━━━━━━━━━━\u001b[0m\u001b[37m\u001b[0m \u001b[1m4s\u001b[0m 6ms/step - accuracy: 0.8991 - loss: 0.2906\n",
      "Epoch 40/50\n",
      "\u001b[1m782/782\u001b[0m \u001b[32m━━━━━━━━━━━━━━━━━━━━\u001b[0m\u001b[37m\u001b[0m \u001b[1m4s\u001b[0m 6ms/step - accuracy: 0.9014 - loss: 0.2840\n",
      "Epoch 41/50\n",
      "\u001b[1m782/782\u001b[0m \u001b[32m━━━━━━━━━━━━━━━━━━━━\u001b[0m\u001b[37m\u001b[0m \u001b[1m4s\u001b[0m 5ms/step - accuracy: 0.9005 - loss: 0.2919\n",
      "Epoch 42/50\n",
      "\u001b[1m782/782\u001b[0m \u001b[32m━━━━━━━━━━━━━━━━━━━━\u001b[0m\u001b[37m\u001b[0m \u001b[1m4s\u001b[0m 5ms/step - accuracy: 0.9074 - loss: 0.2677\n",
      "Epoch 43/50\n",
      "\u001b[1m782/782\u001b[0m \u001b[32m━━━━━━━━━━━━━━━━━━━━\u001b[0m\u001b[37m\u001b[0m \u001b[1m4s\u001b[0m 5ms/step - accuracy: 0.9028 - loss: 0.2829\n",
      "Epoch 44/50\n",
      "\u001b[1m782/782\u001b[0m \u001b[32m━━━━━━━━━━━━━━━━━━━━\u001b[0m\u001b[37m\u001b[0m \u001b[1m4s\u001b[0m 6ms/step - accuracy: 0.9104 - loss: 0.2595\n",
      "Epoch 45/50\n",
      "\u001b[1m782/782\u001b[0m \u001b[32m━━━━━━━━━━━━━━━━━━━━\u001b[0m\u001b[37m\u001b[0m \u001b[1m4s\u001b[0m 6ms/step - accuracy: 0.9144 - loss: 0.2479\n",
      "Epoch 46/50\n",
      "\u001b[1m782/782\u001b[0m \u001b[32m━━━━━━━━━━━━━━━━━━━━\u001b[0m\u001b[37m\u001b[0m \u001b[1m4s\u001b[0m 6ms/step - accuracy: 0.9177 - loss: 0.2428\n",
      "Epoch 47/50\n",
      "\u001b[1m782/782\u001b[0m \u001b[32m━━━━━━━━━━━━━━━━━━━━\u001b[0m\u001b[37m\u001b[0m \u001b[1m4s\u001b[0m 5ms/step - accuracy: 0.9183 - loss: 0.2316\n",
      "Epoch 48/50\n",
      "\u001b[1m782/782\u001b[0m \u001b[32m━━━━━━━━━━━━━━━━━━━━\u001b[0m\u001b[37m\u001b[0m \u001b[1m4s\u001b[0m 5ms/step - accuracy: 0.9210 - loss: 0.2373\n",
      "Epoch 49/50\n",
      "\u001b[1m782/782\u001b[0m \u001b[32m━━━━━━━━━━━━━━━━━━━━\u001b[0m\u001b[37m\u001b[0m \u001b[1m5s\u001b[0m 6ms/step - accuracy: 0.9229 - loss: 0.2267\n",
      "Epoch 50/50\n",
      "\u001b[1m782/782\u001b[0m \u001b[32m━━━━━━━━━━━━━━━━━━━━\u001b[0m\u001b[37m\u001b[0m \u001b[1m4s\u001b[0m 5ms/step - accuracy: 0.9161 - loss: 0.2452\n"
     ]
    },
    {
     "data": {
      "text/plain": [
       "<keras.src.callbacks.history.History at 0x159518d90>"
      ]
     },
     "execution_count": 63,
     "metadata": {},
     "output_type": "execute_result"
    }
   ],
   "source": [
    "model= Sequential()\n",
    "model.add(Conv2D(6,(3,3),activation='relu'))\n",
    "model.add(MaxPool2D((2,2)))\n",
    "model.add(Flatten(input_shape=(32, 32, 3)))\n",
    "model.add(Dense(128, activation='relu'))\n",
    "model.add(Dense(64, activation='relu'))\n",
    "model.add(Dense(10, activation='softmax'))\n",
    "\n",
    "model.compile(optimizer='adam', loss='categorical_crossentropy', metrics=['accuracy'])\n",
    "\n",
    "model.fit(X_train, y_train, epochs=50, batch_size=64)"
   ]
  },
  {
   "cell_type": "code",
   "execution_count": 25,
   "metadata": {},
   "outputs": [
    {
     "name": "stdout",
     "output_type": "stream",
     "text": [
      "Epoch 1/100\n",
      "\u001b[1m782/782\u001b[0m \u001b[32m━━━━━━━━━━━━━━━━━━━━\u001b[0m\u001b[37m\u001b[0m \u001b[1m6s\u001b[0m 6ms/step - accuracy: 0.1931 - loss: 10.2114 - val_accuracy: 0.3126 - val_loss: 1.9796\n",
      "Epoch 2/100\n",
      "\u001b[1m782/782\u001b[0m \u001b[32m━━━━━━━━━━━━━━━━━━━━\u001b[0m\u001b[37m\u001b[0m \u001b[1m5s\u001b[0m 7ms/step - accuracy: 0.3446 - loss: 1.8664 - val_accuracy: 0.3549 - val_loss: 1.7999\n",
      "Epoch 3/100\n",
      "\u001b[1m782/782\u001b[0m \u001b[32m━━━━━━━━━━━━━━━━━━━━\u001b[0m\u001b[37m\u001b[0m \u001b[1m4s\u001b[0m 6ms/step - accuracy: 0.4477 - loss: 1.5689 - val_accuracy: 0.4642 - val_loss: 1.5287\n",
      "Epoch 4/100\n",
      "\u001b[1m782/782\u001b[0m \u001b[32m━━━━━━━━━━━━━━━━━━━━\u001b[0m\u001b[37m\u001b[0m \u001b[1m4s\u001b[0m 6ms/step - accuracy: 0.5153 - loss: 1.3761 - val_accuracy: 0.4785 - val_loss: 1.5183\n",
      "Epoch 5/100\n",
      "\u001b[1m782/782\u001b[0m \u001b[32m━━━━━━━━━━━━━━━━━━━━\u001b[0m\u001b[37m\u001b[0m \u001b[1m4s\u001b[0m 6ms/step - accuracy: 0.5562 - loss: 1.2550 - val_accuracy: 0.4959 - val_loss: 1.4780\n",
      "Epoch 6/100\n",
      "\u001b[1m782/782\u001b[0m \u001b[32m━━━━━━━━━━━━━━━━━━━━\u001b[0m\u001b[37m\u001b[0m \u001b[1m5s\u001b[0m 6ms/step - accuracy: 0.5894 - loss: 1.1692 - val_accuracy: 0.4931 - val_loss: 1.5885\n",
      "Epoch 7/100\n",
      "\u001b[1m782/782\u001b[0m \u001b[32m━━━━━━━━━━━━━━━━━━━━\u001b[0m\u001b[37m\u001b[0m \u001b[1m4s\u001b[0m 6ms/step - accuracy: 0.6263 - loss: 1.0648 - val_accuracy: 0.5002 - val_loss: 1.4985\n",
      "Epoch 8/100\n",
      "\u001b[1m782/782\u001b[0m \u001b[32m━━━━━━━━━━━━━━━━━━━━\u001b[0m\u001b[37m\u001b[0m \u001b[1m4s\u001b[0m 5ms/step - accuracy: 0.6545 - loss: 0.9975 - val_accuracy: 0.5140 - val_loss: 1.5481\n",
      "Epoch 9/100\n",
      "\u001b[1m782/782\u001b[0m \u001b[32m━━━━━━━━━━━━━━━━━━━━\u001b[0m\u001b[37m\u001b[0m \u001b[1m4s\u001b[0m 6ms/step - accuracy: 0.6802 - loss: 0.9199 - val_accuracy: 0.5184 - val_loss: 1.5788\n",
      "Epoch 10/100\n",
      "\u001b[1m782/782\u001b[0m \u001b[32m━━━━━━━━━━━━━━━━━━━━\u001b[0m\u001b[37m\u001b[0m \u001b[1m4s\u001b[0m 6ms/step - accuracy: 0.7036 - loss: 0.8540 - val_accuracy: 0.5124 - val_loss: 1.5933\n",
      "Epoch 11/100\n",
      "\u001b[1m782/782\u001b[0m \u001b[32m━━━━━━━━━━━━━━━━━━━━\u001b[0m\u001b[37m\u001b[0m \u001b[1m4s\u001b[0m 5ms/step - accuracy: 0.7221 - loss: 0.7956 - val_accuracy: 0.4980 - val_loss: 1.6675\n",
      "Epoch 12/100\n",
      "\u001b[1m782/782\u001b[0m \u001b[32m━━━━━━━━━━━━━━━━━━━━\u001b[0m\u001b[37m\u001b[0m \u001b[1m4s\u001b[0m 6ms/step - accuracy: 0.7471 - loss: 0.7430 - val_accuracy: 0.5031 - val_loss: 1.7741\n",
      "Epoch 13/100\n",
      "\u001b[1m782/782\u001b[0m \u001b[32m━━━━━━━━━━━━━━━━━━━━\u001b[0m\u001b[37m\u001b[0m \u001b[1m5s\u001b[0m 6ms/step - accuracy: 0.7622 - loss: 0.6848 - val_accuracy: 0.5080 - val_loss: 1.8946\n",
      "Epoch 14/100\n",
      "\u001b[1m782/782\u001b[0m \u001b[32m━━━━━━━━━━━━━━━━━━━━\u001b[0m\u001b[37m\u001b[0m \u001b[1m4s\u001b[0m 5ms/step - accuracy: 0.7762 - loss: 0.6479 - val_accuracy: 0.5199 - val_loss: 1.9084\n",
      "Epoch 15/100\n",
      "\u001b[1m782/782\u001b[0m \u001b[32m━━━━━━━━━━━━━━━━━━━━\u001b[0m\u001b[37m\u001b[0m \u001b[1m4s\u001b[0m 5ms/step - accuracy: 0.7964 - loss: 0.5911 - val_accuracy: 0.5107 - val_loss: 2.0806\n",
      "Epoch 16/100\n",
      "\u001b[1m782/782\u001b[0m \u001b[32m━━━━━━━━━━━━━━━━━━━━\u001b[0m\u001b[37m\u001b[0m \u001b[1m4s\u001b[0m 6ms/step - accuracy: 0.8066 - loss: 0.5626 - val_accuracy: 0.5003 - val_loss: 2.1517\n",
      "Epoch 17/100\n",
      "\u001b[1m782/782\u001b[0m \u001b[32m━━━━━━━━━━━━━━━━━━━━\u001b[0m\u001b[37m\u001b[0m \u001b[1m4s\u001b[0m 5ms/step - accuracy: 0.8193 - loss: 0.5271 - val_accuracy: 0.5071 - val_loss: 2.1605\n",
      "Epoch 18/100\n",
      "\u001b[1m782/782\u001b[0m \u001b[32m━━━━━━━━━━━━━━━━━━━━\u001b[0m\u001b[37m\u001b[0m \u001b[1m4s\u001b[0m 5ms/step - accuracy: 0.8356 - loss: 0.4809 - val_accuracy: 0.5122 - val_loss: 2.2784\n",
      "Epoch 19/100\n",
      "\u001b[1m782/782\u001b[0m \u001b[32m━━━━━━━━━━━━━━━━━━━━\u001b[0m\u001b[37m\u001b[0m \u001b[1m4s\u001b[0m 5ms/step - accuracy: 0.8431 - loss: 0.4610 - val_accuracy: 0.5108 - val_loss: 2.3880\n",
      "Epoch 20/100\n",
      "\u001b[1m782/782\u001b[0m \u001b[32m━━━━━━━━━━━━━━━━━━━━\u001b[0m\u001b[37m\u001b[0m \u001b[1m4s\u001b[0m 5ms/step - accuracy: 0.8458 - loss: 0.4412 - val_accuracy: 0.5024 - val_loss: 2.6385\n",
      "Epoch 21/100\n",
      "\u001b[1m782/782\u001b[0m \u001b[32m━━━━━━━━━━━━━━━━━━━━\u001b[0m\u001b[37m\u001b[0m \u001b[1m4s\u001b[0m 5ms/step - accuracy: 0.8572 - loss: 0.4194 - val_accuracy: 0.5046 - val_loss: 2.4783\n",
      "Epoch 22/100\n",
      "\u001b[1m782/782\u001b[0m \u001b[32m━━━━━━━━━━━━━━━━━━━━\u001b[0m\u001b[37m\u001b[0m \u001b[1m4s\u001b[0m 5ms/step - accuracy: 0.8615 - loss: 0.4071 - val_accuracy: 0.5099 - val_loss: 2.6665\n",
      "Epoch 23/100\n",
      "\u001b[1m782/782\u001b[0m \u001b[32m━━━━━━━━━━━━━━━━━━━━\u001b[0m\u001b[37m\u001b[0m \u001b[1m4s\u001b[0m 6ms/step - accuracy: 0.8736 - loss: 0.3692 - val_accuracy: 0.5076 - val_loss: 2.5533\n",
      "Epoch 24/100\n",
      "\u001b[1m782/782\u001b[0m \u001b[32m━━━━━━━━━━━━━━━━━━━━\u001b[0m\u001b[37m\u001b[0m \u001b[1m4s\u001b[0m 5ms/step - accuracy: 0.8794 - loss: 0.3520 - val_accuracy: 0.4947 - val_loss: 3.0369\n",
      "Epoch 25/100\n",
      "\u001b[1m782/782\u001b[0m \u001b[32m━━━━━━━━━━━━━━━━━━━━\u001b[0m\u001b[37m\u001b[0m \u001b[1m4s\u001b[0m 5ms/step - accuracy: 0.8833 - loss: 0.3493 - val_accuracy: 0.5011 - val_loss: 2.8121\n",
      "Epoch 26/100\n",
      "\u001b[1m782/782\u001b[0m \u001b[32m━━━━━━━━━━━━━━━━━━━━\u001b[0m\u001b[37m\u001b[0m \u001b[1m4s\u001b[0m 5ms/step - accuracy: 0.8888 - loss: 0.3221 - val_accuracy: 0.4958 - val_loss: 3.0679\n",
      "Epoch 27/100\n",
      "\u001b[1m782/782\u001b[0m \u001b[32m━━━━━━━━━━━━━━━━━━━━\u001b[0m\u001b[37m\u001b[0m \u001b[1m4s\u001b[0m 6ms/step - accuracy: 0.8944 - loss: 0.3143 - val_accuracy: 0.4981 - val_loss: 3.0813\n",
      "Epoch 28/100\n",
      "\u001b[1m782/782\u001b[0m \u001b[32m━━━━━━━━━━━━━━━━━━━━\u001b[0m\u001b[37m\u001b[0m \u001b[1m4s\u001b[0m 5ms/step - accuracy: 0.8907 - loss: 0.3198 - val_accuracy: 0.4969 - val_loss: 3.1615\n",
      "Epoch 29/100\n",
      "\u001b[1m782/782\u001b[0m \u001b[32m━━━━━━━━━━━━━━━━━━━━\u001b[0m\u001b[37m\u001b[0m \u001b[1m4s\u001b[0m 5ms/step - accuracy: 0.8972 - loss: 0.3020 - val_accuracy: 0.4945 - val_loss: 3.3242\n",
      "Epoch 30/100\n",
      "\u001b[1m782/782\u001b[0m \u001b[32m━━━━━━━━━━━━━━━━━━━━\u001b[0m\u001b[37m\u001b[0m \u001b[1m4s\u001b[0m 5ms/step - accuracy: 0.9027 - loss: 0.2835 - val_accuracy: 0.4943 - val_loss: 3.3137\n",
      "Epoch 31/100\n",
      "\u001b[1m782/782\u001b[0m \u001b[32m━━━━━━━━━━━━━━━━━━━━\u001b[0m\u001b[37m\u001b[0m \u001b[1m4s\u001b[0m 5ms/step - accuracy: 0.9037 - loss: 0.2807 - val_accuracy: 0.4918 - val_loss: 3.6079\n",
      "Epoch 32/100\n",
      "\u001b[1m782/782\u001b[0m \u001b[32m━━━━━━━━━━━━━━━━━━━━\u001b[0m\u001b[37m\u001b[0m \u001b[1m4s\u001b[0m 6ms/step - accuracy: 0.9065 - loss: 0.2727 - val_accuracy: 0.4976 - val_loss: 3.6358\n",
      "Epoch 33/100\n",
      "\u001b[1m782/782\u001b[0m \u001b[32m━━━━━━━━━━━━━━━━━━━━\u001b[0m\u001b[37m\u001b[0m \u001b[1m4s\u001b[0m 6ms/step - accuracy: 0.9177 - loss: 0.2426 - val_accuracy: 0.5036 - val_loss: 3.6923\n",
      "Epoch 34/100\n",
      "\u001b[1m782/782\u001b[0m \u001b[32m━━━━━━━━━━━━━━━━━━━━\u001b[0m\u001b[37m\u001b[0m \u001b[1m4s\u001b[0m 6ms/step - accuracy: 0.9121 - loss: 0.2597 - val_accuracy: 0.4950 - val_loss: 3.8344\n",
      "Epoch 35/100\n",
      "\u001b[1m782/782\u001b[0m \u001b[32m━━━━━━━━━━━━━━━━━━━━\u001b[0m\u001b[37m\u001b[0m \u001b[1m4s\u001b[0m 6ms/step - accuracy: 0.9126 - loss: 0.2525 - val_accuracy: 0.4893 - val_loss: 4.1051\n",
      "Epoch 36/100\n",
      "\u001b[1m782/782\u001b[0m \u001b[32m━━━━━━━━━━━━━━━━━━━━\u001b[0m\u001b[37m\u001b[0m \u001b[1m4s\u001b[0m 5ms/step - accuracy: 0.9224 - loss: 0.2231 - val_accuracy: 0.4870 - val_loss: 3.9962\n",
      "Epoch 37/100\n",
      "\u001b[1m782/782\u001b[0m \u001b[32m━━━━━━━━━━━━━━━━━━━━\u001b[0m\u001b[37m\u001b[0m \u001b[1m5s\u001b[0m 6ms/step - accuracy: 0.9206 - loss: 0.2364 - val_accuracy: 0.4894 - val_loss: 4.1632\n",
      "Epoch 38/100\n",
      "\u001b[1m782/782\u001b[0m \u001b[32m━━━━━━━━━━━━━━━━━━━━\u001b[0m\u001b[37m\u001b[0m \u001b[1m4s\u001b[0m 5ms/step - accuracy: 0.9251 - loss: 0.2187 - val_accuracy: 0.4756 - val_loss: 4.5760\n",
      "Epoch 39/100\n",
      "\u001b[1m782/782\u001b[0m \u001b[32m━━━━━━━━━━━━━━━━━━━━\u001b[0m\u001b[37m\u001b[0m \u001b[1m4s\u001b[0m 5ms/step - accuracy: 0.9257 - loss: 0.2227 - val_accuracy: 0.4917 - val_loss: 3.9126\n",
      "Epoch 40/100\n",
      "\u001b[1m782/782\u001b[0m \u001b[32m━━━━━━━━━━━━━━━━━━━━\u001b[0m\u001b[37m\u001b[0m \u001b[1m4s\u001b[0m 5ms/step - accuracy: 0.9228 - loss: 0.2322 - val_accuracy: 0.4948 - val_loss: 4.2861\n",
      "Epoch 41/100\n",
      "\u001b[1m782/782\u001b[0m \u001b[32m━━━━━━━━━━━━━━━━━━━━\u001b[0m\u001b[37m\u001b[0m \u001b[1m4s\u001b[0m 5ms/step - accuracy: 0.9331 - loss: 0.1979 - val_accuracy: 0.4855 - val_loss: 4.5506\n",
      "Epoch 42/100\n",
      "\u001b[1m782/782\u001b[0m \u001b[32m━━━━━━━━━━━━━━━━━━━━\u001b[0m\u001b[37m\u001b[0m \u001b[1m4s\u001b[0m 5ms/step - accuracy: 0.9269 - loss: 0.2196 - val_accuracy: 0.4937 - val_loss: 4.3159\n",
      "Epoch 43/100\n",
      "\u001b[1m782/782\u001b[0m \u001b[32m━━━━━━━━━━━━━━━━━━━━\u001b[0m\u001b[37m\u001b[0m \u001b[1m4s\u001b[0m 5ms/step - accuracy: 0.9383 - loss: 0.1824 - val_accuracy: 0.4955 - val_loss: 4.5137\n",
      "Epoch 44/100\n",
      "\u001b[1m782/782\u001b[0m \u001b[32m━━━━━━━━━━━━━━━━━━━━\u001b[0m\u001b[37m\u001b[0m \u001b[1m4s\u001b[0m 5ms/step - accuracy: 0.9364 - loss: 0.1929 - val_accuracy: 0.4895 - val_loss: 4.7618\n",
      "Epoch 45/100\n",
      "\u001b[1m782/782\u001b[0m \u001b[32m━━━━━━━━━━━━━━━━━━━━\u001b[0m\u001b[37m\u001b[0m \u001b[1m4s\u001b[0m 5ms/step - accuracy: 0.9333 - loss: 0.1973 - val_accuracy: 0.4972 - val_loss: 4.5648\n",
      "Epoch 46/100\n",
      "\u001b[1m782/782\u001b[0m \u001b[32m━━━━━━━━━━━━━━━━━━━━\u001b[0m\u001b[37m\u001b[0m \u001b[1m4s\u001b[0m 5ms/step - accuracy: 0.9335 - loss: 0.2005 - val_accuracy: 0.4820 - val_loss: 4.5779\n",
      "Epoch 47/100\n",
      "\u001b[1m782/782\u001b[0m \u001b[32m━━━━━━━━━━━━━━━━━━━━\u001b[0m\u001b[37m\u001b[0m \u001b[1m4s\u001b[0m 5ms/step - accuracy: 0.9381 - loss: 0.1835 - val_accuracy: 0.4840 - val_loss: 5.3462\n",
      "Epoch 48/100\n",
      "\u001b[1m782/782\u001b[0m \u001b[32m━━━━━━━━━━━━━━━━━━━━\u001b[0m\u001b[37m\u001b[0m \u001b[1m4s\u001b[0m 6ms/step - accuracy: 0.9388 - loss: 0.1788 - val_accuracy: 0.4903 - val_loss: 4.9522\n",
      "Epoch 49/100\n",
      "\u001b[1m782/782\u001b[0m \u001b[32m━━━━━━━━━━━━━━━━━━━━\u001b[0m\u001b[37m\u001b[0m \u001b[1m4s\u001b[0m 5ms/step - accuracy: 0.9383 - loss: 0.1763 - val_accuracy: 0.4991 - val_loss: 4.9422\n",
      "Epoch 50/100\n",
      "\u001b[1m782/782\u001b[0m \u001b[32m━━━━━━━━━━━━━━━━━━━━\u001b[0m\u001b[37m\u001b[0m \u001b[1m4s\u001b[0m 5ms/step - accuracy: 0.9368 - loss: 0.1938 - val_accuracy: 0.4879 - val_loss: 5.2667\n",
      "Epoch 51/100\n",
      "\u001b[1m782/782\u001b[0m \u001b[32m━━━━━━━━━━━━━━━━━━━━\u001b[0m\u001b[37m\u001b[0m \u001b[1m4s\u001b[0m 6ms/step - accuracy: 0.9456 - loss: 0.1604 - val_accuracy: 0.4889 - val_loss: 5.3151\n",
      "Epoch 52/100\n",
      "\u001b[1m782/782\u001b[0m \u001b[32m━━━━━━━━━━━━━━━━━━━━\u001b[0m\u001b[37m\u001b[0m \u001b[1m4s\u001b[0m 6ms/step - accuracy: 0.9503 - loss: 0.1483 - val_accuracy: 0.4813 - val_loss: 5.3790\n",
      "Epoch 53/100\n",
      "\u001b[1m782/782\u001b[0m \u001b[32m━━━━━━━━━━━━━━━━━━━━\u001b[0m\u001b[37m\u001b[0m \u001b[1m4s\u001b[0m 5ms/step - accuracy: 0.9486 - loss: 0.1547 - val_accuracy: 0.4888 - val_loss: 5.1559\n",
      "Epoch 54/100\n",
      "\u001b[1m782/782\u001b[0m \u001b[32m━━━━━━━━━━━━━━━━━━━━\u001b[0m\u001b[37m\u001b[0m \u001b[1m4s\u001b[0m 5ms/step - accuracy: 0.9462 - loss: 0.1615 - val_accuracy: 0.4817 - val_loss: 4.9138\n",
      "Epoch 55/100\n",
      "\u001b[1m782/782\u001b[0m \u001b[32m━━━━━━━━━━━━━━━━━━━━\u001b[0m\u001b[37m\u001b[0m \u001b[1m4s\u001b[0m 5ms/step - accuracy: 0.9438 - loss: 0.1676 - val_accuracy: 0.4907 - val_loss: 5.6621\n",
      "Epoch 56/100\n",
      "\u001b[1m782/782\u001b[0m \u001b[32m━━━━━━━━━━━━━━━━━━━━\u001b[0m\u001b[37m\u001b[0m \u001b[1m4s\u001b[0m 6ms/step - accuracy: 0.9435 - loss: 0.1716 - val_accuracy: 0.4832 - val_loss: 5.5456\n",
      "Epoch 57/100\n",
      "\u001b[1m782/782\u001b[0m \u001b[32m━━━━━━━━━━━━━━━━━━━━\u001b[0m\u001b[37m\u001b[0m \u001b[1m4s\u001b[0m 6ms/step - accuracy: 0.9491 - loss: 0.1539 - val_accuracy: 0.4962 - val_loss: 5.3777\n",
      "Epoch 58/100\n",
      "\u001b[1m782/782\u001b[0m \u001b[32m━━━━━━━━━━━━━━━━━━━━\u001b[0m\u001b[37m\u001b[0m \u001b[1m4s\u001b[0m 5ms/step - accuracy: 0.9495 - loss: 0.1518 - val_accuracy: 0.4826 - val_loss: 5.6093\n",
      "Epoch 59/100\n",
      "\u001b[1m782/782\u001b[0m \u001b[32m━━━━━━━━━━━━━━━━━━━━\u001b[0m\u001b[37m\u001b[0m \u001b[1m4s\u001b[0m 5ms/step - accuracy: 0.9548 - loss: 0.1386 - val_accuracy: 0.4850 - val_loss: 5.7381\n",
      "Epoch 60/100\n",
      "\u001b[1m782/782\u001b[0m \u001b[32m━━━━━━━━━━━━━━━━━━━━\u001b[0m\u001b[37m\u001b[0m \u001b[1m4s\u001b[0m 5ms/step - accuracy: 0.9471 - loss: 0.1611 - val_accuracy: 0.4796 - val_loss: 5.5991\n",
      "Epoch 61/100\n",
      "\u001b[1m782/782\u001b[0m \u001b[32m━━━━━━━━━━━━━━━━━━━━\u001b[0m\u001b[37m\u001b[0m \u001b[1m4s\u001b[0m 5ms/step - accuracy: 0.9513 - loss: 0.1518 - val_accuracy: 0.4908 - val_loss: 5.5006\n",
      "Epoch 62/100\n",
      "\u001b[1m782/782\u001b[0m \u001b[32m━━━━━━━━━━━━━━━━━━━━\u001b[0m\u001b[37m\u001b[0m \u001b[1m4s\u001b[0m 5ms/step - accuracy: 0.9588 - loss: 0.1237 - val_accuracy: 0.4911 - val_loss: 5.4540\n",
      "Epoch 63/100\n",
      "\u001b[1m782/782\u001b[0m \u001b[32m━━━━━━━━━━━━━━━━━━━━\u001b[0m\u001b[37m\u001b[0m \u001b[1m4s\u001b[0m 5ms/step - accuracy: 0.9390 - loss: 0.1926 - val_accuracy: 0.4994 - val_loss: 5.5648\n",
      "Epoch 64/100\n",
      "\u001b[1m782/782\u001b[0m \u001b[32m━━━━━━━━━━━━━━━━━━━━\u001b[0m\u001b[37m\u001b[0m \u001b[1m4s\u001b[0m 6ms/step - accuracy: 0.9533 - loss: 0.1441 - val_accuracy: 0.4952 - val_loss: 5.8716\n",
      "Epoch 65/100\n",
      "\u001b[1m782/782\u001b[0m \u001b[32m━━━━━━━━━━━━━━━━━━━━\u001b[0m\u001b[37m\u001b[0m \u001b[1m5s\u001b[0m 6ms/step - accuracy: 0.9615 - loss: 0.1188 - val_accuracy: 0.4848 - val_loss: 6.3796\n",
      "Epoch 66/100\n",
      "\u001b[1m782/782\u001b[0m \u001b[32m━━━━━━━━━━━━━━━━━━━━\u001b[0m\u001b[37m\u001b[0m \u001b[1m4s\u001b[0m 6ms/step - accuracy: 0.9541 - loss: 0.1468 - val_accuracy: 0.4981 - val_loss: 5.7597\n",
      "Epoch 67/100\n",
      "\u001b[1m782/782\u001b[0m \u001b[32m━━━━━━━━━━━━━━━━━━━━\u001b[0m\u001b[37m\u001b[0m \u001b[1m5s\u001b[0m 6ms/step - accuracy: 0.9549 - loss: 0.1350 - val_accuracy: 0.4840 - val_loss: 5.5111\n",
      "Epoch 68/100\n",
      "\u001b[1m782/782\u001b[0m \u001b[32m━━━━━━━━━━━━━━━━━━━━\u001b[0m\u001b[37m\u001b[0m \u001b[1m4s\u001b[0m 6ms/step - accuracy: 0.9607 - loss: 0.1228 - val_accuracy: 0.4822 - val_loss: 6.6512\n",
      "Epoch 69/100\n",
      "\u001b[1m782/782\u001b[0m \u001b[32m━━━━━━━━━━━━━━━━━━━━\u001b[0m\u001b[37m\u001b[0m \u001b[1m4s\u001b[0m 6ms/step - accuracy: 0.9563 - loss: 0.1274 - val_accuracy: 0.4866 - val_loss: 6.0668\n",
      "Epoch 70/100\n",
      "\u001b[1m782/782\u001b[0m \u001b[32m━━━━━━━━━━━━━━━━━━━━\u001b[0m\u001b[37m\u001b[0m \u001b[1m4s\u001b[0m 6ms/step - accuracy: 0.9537 - loss: 0.1442 - val_accuracy: 0.4908 - val_loss: 6.1812\n",
      "Epoch 71/100\n",
      "\u001b[1m782/782\u001b[0m \u001b[32m━━━━━━━━━━━━━━━━━━━━\u001b[0m\u001b[37m\u001b[0m \u001b[1m4s\u001b[0m 5ms/step - accuracy: 0.9587 - loss: 0.1267 - val_accuracy: 0.4884 - val_loss: 5.8173\n",
      "Epoch 72/100\n",
      "\u001b[1m782/782\u001b[0m \u001b[32m━━━━━━━━━━━━━━━━━━━━\u001b[0m\u001b[37m\u001b[0m \u001b[1m4s\u001b[0m 5ms/step - accuracy: 0.9521 - loss: 0.1485 - val_accuracy: 0.4921 - val_loss: 6.1449\n",
      "Epoch 73/100\n",
      "\u001b[1m782/782\u001b[0m \u001b[32m━━━━━━━━━━━━━━━━━━━━\u001b[0m\u001b[37m\u001b[0m \u001b[1m4s\u001b[0m 5ms/step - accuracy: 0.9614 - loss: 0.1178 - val_accuracy: 0.4852 - val_loss: 6.1832\n",
      "Epoch 74/100\n",
      "\u001b[1m782/782\u001b[0m \u001b[32m━━━━━━━━━━━━━━━━━━━━\u001b[0m\u001b[37m\u001b[0m \u001b[1m4s\u001b[0m 5ms/step - accuracy: 0.9673 - loss: 0.1007 - val_accuracy: 0.4891 - val_loss: 6.4558\n",
      "Epoch 75/100\n",
      "\u001b[1m782/782\u001b[0m \u001b[32m━━━━━━━━━━━━━━━━━━━━\u001b[0m\u001b[37m\u001b[0m \u001b[1m4s\u001b[0m 6ms/step - accuracy: 0.9625 - loss: 0.1123 - val_accuracy: 0.4858 - val_loss: 6.5563\n",
      "Epoch 76/100\n",
      "\u001b[1m782/782\u001b[0m \u001b[32m━━━━━━━━━━━━━━━━━━━━\u001b[0m\u001b[37m\u001b[0m \u001b[1m4s\u001b[0m 6ms/step - accuracy: 0.9576 - loss: 0.1328 - val_accuracy: 0.4878 - val_loss: 6.2803\n",
      "Epoch 77/100\n",
      "\u001b[1m782/782\u001b[0m \u001b[32m━━━━━━━━━━━━━━━━━━━━\u001b[0m\u001b[37m\u001b[0m \u001b[1m4s\u001b[0m 6ms/step - accuracy: 0.9607 - loss: 0.1231 - val_accuracy: 0.4857 - val_loss: 6.5042\n",
      "Epoch 78/100\n",
      "\u001b[1m782/782\u001b[0m \u001b[32m━━━━━━━━━━━━━━━━━━━━\u001b[0m\u001b[37m\u001b[0m \u001b[1m4s\u001b[0m 5ms/step - accuracy: 0.9618 - loss: 0.1209 - val_accuracy: 0.4890 - val_loss: 6.9459\n",
      "Epoch 79/100\n",
      "\u001b[1m782/782\u001b[0m \u001b[32m━━━━━━━━━━━━━━━━━━━━\u001b[0m\u001b[37m\u001b[0m \u001b[1m5s\u001b[0m 6ms/step - accuracy: 0.9625 - loss: 0.1218 - val_accuracy: 0.4917 - val_loss: 6.5901\n",
      "Epoch 80/100\n",
      "\u001b[1m782/782\u001b[0m \u001b[32m━━━━━━━━━━━━━━━━━━━━\u001b[0m\u001b[37m\u001b[0m \u001b[1m4s\u001b[0m 6ms/step - accuracy: 0.9630 - loss: 0.1144 - val_accuracy: 0.4876 - val_loss: 6.7132\n",
      "Epoch 81/100\n",
      "\u001b[1m782/782\u001b[0m \u001b[32m━━━━━━━━━━━━━━━━━━━━\u001b[0m\u001b[37m\u001b[0m \u001b[1m4s\u001b[0m 6ms/step - accuracy: 0.9627 - loss: 0.1133 - val_accuracy: 0.4930 - val_loss: 6.0807\n",
      "Epoch 82/100\n",
      "\u001b[1m782/782\u001b[0m \u001b[32m━━━━━━━━━━━━━━━━━━━━\u001b[0m\u001b[37m\u001b[0m \u001b[1m4s\u001b[0m 6ms/step - accuracy: 0.9603 - loss: 0.1234 - val_accuracy: 0.4864 - val_loss: 6.5877\n",
      "Epoch 83/100\n",
      "\u001b[1m782/782\u001b[0m \u001b[32m━━━━━━━━━━━━━━━━━━━━\u001b[0m\u001b[37m\u001b[0m \u001b[1m4s\u001b[0m 5ms/step - accuracy: 0.9646 - loss: 0.1120 - val_accuracy: 0.4877 - val_loss: 7.0622\n",
      "Epoch 84/100\n",
      "\u001b[1m782/782\u001b[0m \u001b[32m━━━━━━━━━━━━━━━━━━━━\u001b[0m\u001b[37m\u001b[0m \u001b[1m4s\u001b[0m 5ms/step - accuracy: 0.9685 - loss: 0.1002 - val_accuracy: 0.4792 - val_loss: 7.0503\n",
      "Epoch 85/100\n",
      "\u001b[1m782/782\u001b[0m \u001b[32m━━━━━━━━━━━━━━━━━━━━\u001b[0m\u001b[37m\u001b[0m \u001b[1m4s\u001b[0m 6ms/step - accuracy: 0.9629 - loss: 0.1168 - val_accuracy: 0.4878 - val_loss: 7.3503\n",
      "Epoch 86/100\n",
      "\u001b[1m782/782\u001b[0m \u001b[32m━━━━━━━━━━━━━━━━━━━━\u001b[0m\u001b[37m\u001b[0m \u001b[1m4s\u001b[0m 5ms/step - accuracy: 0.9540 - loss: 0.1478 - val_accuracy: 0.4847 - val_loss: 7.0620\n",
      "Epoch 87/100\n",
      "\u001b[1m782/782\u001b[0m \u001b[32m━━━━━━━━━━━━━━━━━━━━\u001b[0m\u001b[37m\u001b[0m \u001b[1m4s\u001b[0m 5ms/step - accuracy: 0.9692 - loss: 0.0930 - val_accuracy: 0.4798 - val_loss: 7.8815\n",
      "Epoch 88/100\n",
      "\u001b[1m782/782\u001b[0m \u001b[32m━━━━━━━━━━━━━━━━━━━━\u001b[0m\u001b[37m\u001b[0m \u001b[1m4s\u001b[0m 5ms/step - accuracy: 0.9664 - loss: 0.1077 - val_accuracy: 0.4829 - val_loss: 7.2277\n",
      "Epoch 89/100\n",
      "\u001b[1m782/782\u001b[0m \u001b[32m━━━━━━━━━━━━━━━━━━━━\u001b[0m\u001b[37m\u001b[0m \u001b[1m5s\u001b[0m 7ms/step - accuracy: 0.9656 - loss: 0.1121 - val_accuracy: 0.4843 - val_loss: 6.9853\n",
      "Epoch 90/100\n",
      "\u001b[1m782/782\u001b[0m \u001b[32m━━━━━━━━━━━━━━━━━━━━\u001b[0m\u001b[37m\u001b[0m \u001b[1m459s\u001b[0m 587ms/step - accuracy: 0.9609 - loss: 0.1242 - val_accuracy: 0.4863 - val_loss: 7.5981\n",
      "Epoch 91/100\n",
      "\u001b[1m782/782\u001b[0m \u001b[32m━━━━━━━━━━━━━━━━━━━━\u001b[0m\u001b[37m\u001b[0m \u001b[1m6s\u001b[0m 8ms/step - accuracy: 0.9673 - loss: 0.1020 - val_accuracy: 0.4906 - val_loss: 7.5600\n",
      "Epoch 92/100\n",
      "\u001b[1m782/782\u001b[0m \u001b[32m━━━━━━━━━━━━━━━━━━━━\u001b[0m\u001b[37m\u001b[0m \u001b[1m5s\u001b[0m 7ms/step - accuracy: 0.9663 - loss: 0.1087 - val_accuracy: 0.4843 - val_loss: 7.6816\n",
      "Epoch 93/100\n",
      "\u001b[1m782/782\u001b[0m \u001b[32m━━━━━━━━━━━━━━━━━━━━\u001b[0m\u001b[37m\u001b[0m \u001b[1m5s\u001b[0m 6ms/step - accuracy: 0.9671 - loss: 0.1073 - val_accuracy: 0.4872 - val_loss: 7.2356\n",
      "Epoch 94/100\n",
      "\u001b[1m782/782\u001b[0m \u001b[32m━━━━━━━━━━━━━━━━━━━━\u001b[0m\u001b[37m\u001b[0m \u001b[1m4s\u001b[0m 6ms/step - accuracy: 0.9613 - loss: 0.1310 - val_accuracy: 0.4818 - val_loss: 7.5140\n",
      "Epoch 95/100\n",
      "\u001b[1m782/782\u001b[0m \u001b[32m━━━━━━━━━━━━━━━━━━━━\u001b[0m\u001b[37m\u001b[0m \u001b[1m4s\u001b[0m 6ms/step - accuracy: 0.9661 - loss: 0.1062 - val_accuracy: 0.4668 - val_loss: 7.1322\n",
      "Epoch 96/100\n",
      "\u001b[1m782/782\u001b[0m \u001b[32m━━━━━━━━━━━━━━━━━━━━\u001b[0m\u001b[37m\u001b[0m \u001b[1m4s\u001b[0m 6ms/step - accuracy: 0.9633 - loss: 0.1150 - val_accuracy: 0.4862 - val_loss: 7.8146\n",
      "Epoch 97/100\n",
      "\u001b[1m782/782\u001b[0m \u001b[32m━━━━━━━━━━━━━━━━━━━━\u001b[0m\u001b[37m\u001b[0m \u001b[1m4s\u001b[0m 6ms/step - accuracy: 0.9669 - loss: 0.1097 - val_accuracy: 0.4773 - val_loss: 7.5590\n",
      "Epoch 98/100\n",
      "\u001b[1m782/782\u001b[0m \u001b[32m━━━━━━━━━━━━━━━━━━━━\u001b[0m\u001b[37m\u001b[0m \u001b[1m4s\u001b[0m 5ms/step - accuracy: 0.9668 - loss: 0.1125 - val_accuracy: 0.4776 - val_loss: 7.5337\n",
      "Epoch 99/100\n",
      "\u001b[1m782/782\u001b[0m \u001b[32m━━━━━━━━━━━━━━━━━━━━\u001b[0m\u001b[37m\u001b[0m \u001b[1m4s\u001b[0m 5ms/step - accuracy: 0.9715 - loss: 0.0914 - val_accuracy: 0.4944 - val_loss: 7.3953\n",
      "Epoch 100/100\n",
      "\u001b[1m782/782\u001b[0m \u001b[32m━━━━━━━━━━━━━━━━━━━━\u001b[0m\u001b[37m\u001b[0m \u001b[1m4s\u001b[0m 5ms/step - accuracy: 0.9702 - loss: 0.0967 - val_accuracy: 0.4855 - val_loss: 7.7076\n"
     ]
    }
   ],
   "source": [
    "model= Sequential()\n",
    "model.add(Conv2D(6,(3,3),activation='relu'))\n",
    "model.add(MaxPool2D((2,2)))\n",
    "model.add(Flatten(input_shape=(32,32,3)))\n",
    "model.add(Dense(128,activation='relu'))\n",
    "model.add(Dense(64,activation='relu'))\n",
    "model.add(Dense(10,activation='softmax'))\n",
    "model.compile(optimizer='adam', loss='categorical_crossentropy',metrics=['accuracy'])\n",
    "result=model.fit(x_train, y_train, epochs=100, batch_size=64,validation_data=(x_test, y_test))\n"
   ]
  },
  {
   "cell_type": "code",
   "execution_count": 26,
   "metadata": {},
   "outputs": [
    {
     "name": "stdout",
     "output_type": "stream",
     "text": [
      "dict_items([('accuracy', [0.23469999432563782, 0.367139995098114, 0.45471999049186707, 0.5116999745368958, 0.5513399839401245, 0.5846400260925293, 0.6176400184631348, 0.6420800089836121, 0.669700026512146, 0.6891800165176392, 0.7109400033950806, 0.7333999872207642, 0.7509599924087524, 0.7671599984169006, 0.781000018119812, 0.7924000024795532, 0.8094800114631653, 0.8187999725341797, 0.8290600180625916, 0.8340799808502197, 0.8441600203514099, 0.8528199791908264, 0.8626800179481506, 0.8668000102043152, 0.8733599781990051, 0.8798800110816956, 0.8792600035667419, 0.8879799842834473, 0.8873000144958496, 0.8928800225257874, 0.89301997423172, 0.8993399739265442, 0.9089999794960022, 0.9070600271224976, 0.9086199998855591, 0.9118800163269043, 0.9146599769592285, 0.9163200259208679, 0.9211599826812744, 0.9207800030708313, 0.9249200224876404, 0.921720027923584, 0.9293400049209595, 0.9298400282859802, 0.9279400110244751, 0.9310399889945984, 0.9315599799156189, 0.9362999796867371, 0.9343799948692322, 0.9337599873542786, 0.9399399757385254, 0.9419000148773193, 0.9415199756622314, 0.939079999923706, 0.9425399899482727, 0.9428200125694275, 0.9455599784851074, 0.943340003490448, 0.9475799798965454, 0.9446799755096436, 0.9487000107765198, 0.9556800127029419, 0.9395599961280823, 0.9493799805641174, 0.9567599892616272, 0.9501199722290039, 0.9496399760246277, 0.9549999833106995, 0.9515200257301331, 0.9512400031089783, 0.9521399736404419, 0.9490000009536743, 0.9571599960327148, 0.962119996547699, 0.9541000127792358, 0.9560400247573853, 0.9581800103187561, 0.9595999717712402, 0.9581400156021118, 0.9574800133705139, 0.9596199989318848, 0.9581999778747559, 0.961899995803833, 0.9629600048065186, 0.9567999839782715, 0.9552599787712097, 0.9672799706459045, 0.9620800018310547, 0.9608799815177917, 0.9615600109100342, 0.9666000008583069, 0.9618800282478333, 0.9628000259399414, 0.9635199904441833, 0.9678800106048584, 0.9641600251197815, 0.9620599746704102, 0.9615799784660339, 0.9684799909591675, 0.9620199799537659]), ('loss', [3.969311475753784, 1.8011318445205688, 1.5474048852920532, 1.3826065063476562, 1.272138237953186, 1.1876295804977417, 1.0984537601470947, 1.028578519821167, 0.9518489241600037, 0.8933220505714417, 0.8316570520401001, 0.7743064165115356, 0.7211341261863708, 0.6767727136611938, 0.6294986605644226, 0.6024938821792603, 0.5502991676330566, 0.5247774720191956, 0.49666184186935425, 0.47915688157081604, 0.4502144157886505, 0.42763251066207886, 0.3989579975605011, 0.38702598214149475, 0.3719950318336487, 0.35097557306289673, 0.3561256527900696, 0.3255003094673157, 0.331727534532547, 0.309114545583725, 0.3118820786476135, 0.297974556684494, 0.26512473821640015, 0.27638837695121765, 0.2624553442001343, 0.259026437997818, 0.25198376178741455, 0.24498505890369415, 0.2351411134004593, 0.23508062958717346, 0.22339469194412231, 0.2325286865234375, 0.2065814584493637, 0.21024306118488312, 0.21436619758605957, 0.20564360916614532, 0.20229709148406982, 0.18869461119174957, 0.19161300361156464, 0.2019420713186264, 0.17889581620693207, 0.1734548658132553, 0.1746024340391159, 0.18347729742527008, 0.1745762676000595, 0.17412669956684113, 0.1622363030910492, 0.16969789564609528, 0.16190196573734283, 0.17082487046718597, 0.15722699463367462, 0.13065199553966522, 0.19035503268241882, 0.15874171257019043, 0.1323961317539215, 0.1574646383523941, 0.1535675823688507, 0.13972270488739014, 0.14840580523014069, 0.1496022641658783, 0.1482481211423874, 0.15781201422214508, 0.13358712196350098, 0.11721879243850708, 0.14392048120498657, 0.13598567247390747, 0.13077911734580994, 0.12882213294506073, 0.13439585268497467, 0.13730427622795105, 0.1254781186580658, 0.13256877660751343, 0.11929406970739365, 0.11712433397769928, 0.13776402175426483, 0.14324145019054413, 0.09804345667362213, 0.12415223568677902, 0.12728707492351532, 0.12309671938419342, 0.10566480457782745, 0.1218654066324234, 0.12462963163852692, 0.12057869881391525, 0.10049140453338623, 0.11396528035402298, 0.12780584394931793, 0.1295962631702423, 0.10323864966630936, 0.12729759514331818]), ('val_accuracy', [0.3125999867916107, 0.3549000024795532, 0.4641999900341034, 0.47850000858306885, 0.4959000051021576, 0.49309998750686646, 0.5001999735832214, 0.5139999985694885, 0.5184000134468079, 0.5123999714851379, 0.49799999594688416, 0.5030999779701233, 0.5080000162124634, 0.5199000239372253, 0.510699987411499, 0.5002999901771545, 0.507099986076355, 0.5121999979019165, 0.5108000040054321, 0.5023999810218811, 0.5045999884605408, 0.5098999738693237, 0.5076000094413757, 0.49470001459121704, 0.5011000037193298, 0.4957999885082245, 0.49810001254081726, 0.4968999922275543, 0.4945000112056732, 0.4943000078201294, 0.4918000102043152, 0.4975999891757965, 0.503600001335144, 0.4950000047683716, 0.489300012588501, 0.4869999885559082, 0.4893999993801117, 0.475600004196167, 0.4916999936103821, 0.49480000138282776, 0.4855000078678131, 0.4936999976634979, 0.49549999833106995, 0.4894999861717224, 0.49720001220703125, 0.4819999933242798, 0.48399999737739563, 0.4902999997138977, 0.499099999666214, 0.4878999888896942, 0.48890000581741333, 0.4812999963760376, 0.4887999892234802, 0.48170000314712524, 0.49070000648498535, 0.4832000136375427, 0.49619999527931213, 0.48260000348091125, 0.48500001430511475, 0.4796000123023987, 0.49079999327659607, 0.491100013256073, 0.49939998984336853, 0.4952000081539154, 0.4848000109195709, 0.49810001254081726, 0.48399999737739563, 0.4821999967098236, 0.48660001158714294, 0.49079999327659607, 0.48840001225471497, 0.4921000003814697, 0.4851999878883362, 0.48910000920295715, 0.48579999804496765, 0.4878000020980835, 0.48570001125335693, 0.48899999260902405, 0.4916999936103821, 0.4875999987125397, 0.49300000071525574, 0.4864000082015991, 0.4876999855041504, 0.47920000553131104, 0.4878000020980835, 0.4846999943256378, 0.4797999858856201, 0.4828999936580658, 0.48429998755455017, 0.486299991607666, 0.49059998989105225, 0.48429998755455017, 0.487199991941452, 0.48179998993873596, 0.4668000042438507, 0.4862000048160553, 0.4772999882698059, 0.47760000824928284, 0.4943999946117401, 0.4855000078678131]), ('val_loss', [1.97959566116333, 1.799869179725647, 1.5286858081817627, 1.5182514190673828, 1.4779627323150635, 1.5884901285171509, 1.498475193977356, 1.5480514764785767, 1.5787750482559204, 1.5932517051696777, 1.6675093173980713, 1.7740962505340576, 1.8945969343185425, 1.9083681106567383, 2.0805928707122803, 2.151704788208008, 2.160519599914551, 2.2784407138824463, 2.3879644870758057, 2.6385087966918945, 2.4783143997192383, 2.666546583175659, 2.553309917449951, 3.036886692047119, 2.8121156692504883, 3.06791353225708, 3.081343412399292, 3.161526679992676, 3.324171781539917, 3.3137168884277344, 3.607865571975708, 3.635788679122925, 3.6923389434814453, 3.834437131881714, 4.10507345199585, 3.9962034225463867, 4.163162708282471, 4.575951099395752, 3.9126460552215576, 4.286145210266113, 4.550618648529053, 4.31589937210083, 4.513747692108154, 4.7618255615234375, 4.564802646636963, 4.577868938446045, 5.346170902252197, 4.952158451080322, 4.942235946655273, 5.266724109649658, 5.315088272094727, 5.378991603851318, 5.155917167663574, 4.913766384124756, 5.662137031555176, 5.545559883117676, 5.377734184265137, 5.609254360198975, 5.7381486892700195, 5.59912633895874, 5.500557899475098, 5.453996658325195, 5.564754486083984, 5.871559143066406, 6.379577159881592, 5.759726524353027, 5.511096477508545, 6.65123987197876, 6.066832542419434, 6.181215763092041, 5.817336559295654, 6.144944667816162, 6.183210849761963, 6.455758571624756, 6.556328773498535, 6.2803120613098145, 6.504218578338623, 6.94586706161499, 6.590132236480713, 6.713240623474121, 6.08073091506958, 6.58768892288208, 7.062157154083252, 7.050254821777344, 7.350261688232422, 7.062021732330322, 7.881463050842285, 7.227723598480225, 6.985305309295654, 7.598142147064209, 7.559986591339111, 7.681617259979248, 7.235593795776367, 7.513995170593262, 7.13223123550415, 7.8145928382873535, 7.559048652648926, 7.533724784851074, 7.395271301269531, 7.707592964172363])])\n"
     ]
    }
   ],
   "source": [
    "print(result.history.items())\n"
   ]
  },
  {
   "cell_type": "code",
   "execution_count": 27,
   "metadata": {},
   "outputs": [
    {
     "name": "stdout",
     "output_type": "stream",
     "text": [
      "dict_items([('accuracy', [0.23469999432563782, 0.367139995098114, 0.45471999049186707, 0.5116999745368958, 0.5513399839401245, 0.5846400260925293, 0.6176400184631348, 0.6420800089836121, 0.669700026512146, 0.6891800165176392, 0.7109400033950806, 0.7333999872207642, 0.7509599924087524, 0.7671599984169006, 0.781000018119812, 0.7924000024795532, 0.8094800114631653, 0.8187999725341797, 0.8290600180625916, 0.8340799808502197, 0.8441600203514099, 0.8528199791908264, 0.8626800179481506, 0.8668000102043152, 0.8733599781990051, 0.8798800110816956, 0.8792600035667419, 0.8879799842834473, 0.8873000144958496, 0.8928800225257874, 0.89301997423172, 0.8993399739265442, 0.9089999794960022, 0.9070600271224976, 0.9086199998855591, 0.9118800163269043, 0.9146599769592285, 0.9163200259208679, 0.9211599826812744, 0.9207800030708313, 0.9249200224876404, 0.921720027923584, 0.9293400049209595, 0.9298400282859802, 0.9279400110244751, 0.9310399889945984, 0.9315599799156189, 0.9362999796867371, 0.9343799948692322, 0.9337599873542786, 0.9399399757385254, 0.9419000148773193, 0.9415199756622314, 0.939079999923706, 0.9425399899482727, 0.9428200125694275, 0.9455599784851074, 0.943340003490448, 0.9475799798965454, 0.9446799755096436, 0.9487000107765198, 0.9556800127029419, 0.9395599961280823, 0.9493799805641174, 0.9567599892616272, 0.9501199722290039, 0.9496399760246277, 0.9549999833106995, 0.9515200257301331, 0.9512400031089783, 0.9521399736404419, 0.9490000009536743, 0.9571599960327148, 0.962119996547699, 0.9541000127792358, 0.9560400247573853, 0.9581800103187561, 0.9595999717712402, 0.9581400156021118, 0.9574800133705139, 0.9596199989318848, 0.9581999778747559, 0.961899995803833, 0.9629600048065186, 0.9567999839782715, 0.9552599787712097, 0.9672799706459045, 0.9620800018310547, 0.9608799815177917, 0.9615600109100342, 0.9666000008583069, 0.9618800282478333, 0.9628000259399414, 0.9635199904441833, 0.9678800106048584, 0.9641600251197815, 0.9620599746704102, 0.9615799784660339, 0.9684799909591675, 0.9620199799537659]), ('loss', [3.969311475753784, 1.8011318445205688, 1.5474048852920532, 1.3826065063476562, 1.272138237953186, 1.1876295804977417, 1.0984537601470947, 1.028578519821167, 0.9518489241600037, 0.8933220505714417, 0.8316570520401001, 0.7743064165115356, 0.7211341261863708, 0.6767727136611938, 0.6294986605644226, 0.6024938821792603, 0.5502991676330566, 0.5247774720191956, 0.49666184186935425, 0.47915688157081604, 0.4502144157886505, 0.42763251066207886, 0.3989579975605011, 0.38702598214149475, 0.3719950318336487, 0.35097557306289673, 0.3561256527900696, 0.3255003094673157, 0.331727534532547, 0.309114545583725, 0.3118820786476135, 0.297974556684494, 0.26512473821640015, 0.27638837695121765, 0.2624553442001343, 0.259026437997818, 0.25198376178741455, 0.24498505890369415, 0.2351411134004593, 0.23508062958717346, 0.22339469194412231, 0.2325286865234375, 0.2065814584493637, 0.21024306118488312, 0.21436619758605957, 0.20564360916614532, 0.20229709148406982, 0.18869461119174957, 0.19161300361156464, 0.2019420713186264, 0.17889581620693207, 0.1734548658132553, 0.1746024340391159, 0.18347729742527008, 0.1745762676000595, 0.17412669956684113, 0.1622363030910492, 0.16969789564609528, 0.16190196573734283, 0.17082487046718597, 0.15722699463367462, 0.13065199553966522, 0.19035503268241882, 0.15874171257019043, 0.1323961317539215, 0.1574646383523941, 0.1535675823688507, 0.13972270488739014, 0.14840580523014069, 0.1496022641658783, 0.1482481211423874, 0.15781201422214508, 0.13358712196350098, 0.11721879243850708, 0.14392048120498657, 0.13598567247390747, 0.13077911734580994, 0.12882213294506073, 0.13439585268497467, 0.13730427622795105, 0.1254781186580658, 0.13256877660751343, 0.11929406970739365, 0.11712433397769928, 0.13776402175426483, 0.14324145019054413, 0.09804345667362213, 0.12415223568677902, 0.12728707492351532, 0.12309671938419342, 0.10566480457782745, 0.1218654066324234, 0.12462963163852692, 0.12057869881391525, 0.10049140453338623, 0.11396528035402298, 0.12780584394931793, 0.1295962631702423, 0.10323864966630936, 0.12729759514331818]), ('val_accuracy', [0.3125999867916107, 0.3549000024795532, 0.4641999900341034, 0.47850000858306885, 0.4959000051021576, 0.49309998750686646, 0.5001999735832214, 0.5139999985694885, 0.5184000134468079, 0.5123999714851379, 0.49799999594688416, 0.5030999779701233, 0.5080000162124634, 0.5199000239372253, 0.510699987411499, 0.5002999901771545, 0.507099986076355, 0.5121999979019165, 0.5108000040054321, 0.5023999810218811, 0.5045999884605408, 0.5098999738693237, 0.5076000094413757, 0.49470001459121704, 0.5011000037193298, 0.4957999885082245, 0.49810001254081726, 0.4968999922275543, 0.4945000112056732, 0.4943000078201294, 0.4918000102043152, 0.4975999891757965, 0.503600001335144, 0.4950000047683716, 0.489300012588501, 0.4869999885559082, 0.4893999993801117, 0.475600004196167, 0.4916999936103821, 0.49480000138282776, 0.4855000078678131, 0.4936999976634979, 0.49549999833106995, 0.4894999861717224, 0.49720001220703125, 0.4819999933242798, 0.48399999737739563, 0.4902999997138977, 0.499099999666214, 0.4878999888896942, 0.48890000581741333, 0.4812999963760376, 0.4887999892234802, 0.48170000314712524, 0.49070000648498535, 0.4832000136375427, 0.49619999527931213, 0.48260000348091125, 0.48500001430511475, 0.4796000123023987, 0.49079999327659607, 0.491100013256073, 0.49939998984336853, 0.4952000081539154, 0.4848000109195709, 0.49810001254081726, 0.48399999737739563, 0.4821999967098236, 0.48660001158714294, 0.49079999327659607, 0.48840001225471497, 0.4921000003814697, 0.4851999878883362, 0.48910000920295715, 0.48579999804496765, 0.4878000020980835, 0.48570001125335693, 0.48899999260902405, 0.4916999936103821, 0.4875999987125397, 0.49300000071525574, 0.4864000082015991, 0.4876999855041504, 0.47920000553131104, 0.4878000020980835, 0.4846999943256378, 0.4797999858856201, 0.4828999936580658, 0.48429998755455017, 0.486299991607666, 0.49059998989105225, 0.48429998755455017, 0.487199991941452, 0.48179998993873596, 0.4668000042438507, 0.4862000048160553, 0.4772999882698059, 0.47760000824928284, 0.4943999946117401, 0.4855000078678131]), ('val_loss', [1.97959566116333, 1.799869179725647, 1.5286858081817627, 1.5182514190673828, 1.4779627323150635, 1.5884901285171509, 1.498475193977356, 1.5480514764785767, 1.5787750482559204, 1.5932517051696777, 1.6675093173980713, 1.7740962505340576, 1.8945969343185425, 1.9083681106567383, 2.0805928707122803, 2.151704788208008, 2.160519599914551, 2.2784407138824463, 2.3879644870758057, 2.6385087966918945, 2.4783143997192383, 2.666546583175659, 2.553309917449951, 3.036886692047119, 2.8121156692504883, 3.06791353225708, 3.081343412399292, 3.161526679992676, 3.324171781539917, 3.3137168884277344, 3.607865571975708, 3.635788679122925, 3.6923389434814453, 3.834437131881714, 4.10507345199585, 3.9962034225463867, 4.163162708282471, 4.575951099395752, 3.9126460552215576, 4.286145210266113, 4.550618648529053, 4.31589937210083, 4.513747692108154, 4.7618255615234375, 4.564802646636963, 4.577868938446045, 5.346170902252197, 4.952158451080322, 4.942235946655273, 5.266724109649658, 5.315088272094727, 5.378991603851318, 5.155917167663574, 4.913766384124756, 5.662137031555176, 5.545559883117676, 5.377734184265137, 5.609254360198975, 5.7381486892700195, 5.59912633895874, 5.500557899475098, 5.453996658325195, 5.564754486083984, 5.871559143066406, 6.379577159881592, 5.759726524353027, 5.511096477508545, 6.65123987197876, 6.066832542419434, 6.181215763092041, 5.817336559295654, 6.144944667816162, 6.183210849761963, 6.455758571624756, 6.556328773498535, 6.2803120613098145, 6.504218578338623, 6.94586706161499, 6.590132236480713, 6.713240623474121, 6.08073091506958, 6.58768892288208, 7.062157154083252, 7.050254821777344, 7.350261688232422, 7.062021732330322, 7.881463050842285, 7.227723598480225, 6.985305309295654, 7.598142147064209, 7.559986591339111, 7.681617259979248, 7.235593795776367, 7.513995170593262, 7.13223123550415, 7.8145928382873535, 7.559048652648926, 7.533724784851074, 7.395271301269531, 7.707592964172363])])\n"
     ]
    }
   ],
   "source": [
    "print(result.history.items())\n"
   ]
  },
  {
   "cell_type": "markdown",
   "metadata": {},
   "source": [
    "## Visualization"
   ]
  },
  {
   "cell_type": "code",
   "execution_count": 32,
   "metadata": {},
   "outputs": [
    {
     "data": {
      "image/png": "[encoded data removed]",
      "text/plain": [
       "<Figure size 640x480 with 1 Axes>"
      ]
     },
     "metadata": {},
     "output_type": "display_data"
    }
   ],
   "source": [
    "import matplotlib.pyplot as plt\n",
    "plt.plot(result.history['accuracy'],label='train_accuracy',color='blue')\n",
    "plt.plot(result.history['val_accuracy'],label='val_accuracy',color='red')\n",
    "plt.legend()\n",
    "plt.title(\"Train vs Validation Accuracy\")\n",
    "plt.show()\n"
   ]
  }
 ],
 "metadata": {
  "kernelspec": {
   "display_name": "Python 3",
   "language": "python",
   "name": "python3"
  },
  "language_info": {
   "codemirror_mode": {
    "name": "ipython",
    "version": 3
   },
   "file_extension": ".py",
   "mimetype": "text/x-python",
   "name": "python",
   "nbconvert_exporter": "python",
   "pygments_lexer": "ipython3",
   "version": "3.11.4"
  }
 },
 "nbformat": 4,
 "nbformat_minor": 2
}
